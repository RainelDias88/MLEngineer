{
 "cells": [
  {
   "cell_type": "markdown",
   "metadata": {},
   "source": [
    "# Automated ML\n"
   ]
  },
  {
   "cell_type": "code",
   "execution_count": 1,
   "metadata": {
    "gather": {
     "logged": 1613067240709
    },
    "scrolled": true
   },
   "outputs": [
    {
     "name": "stdout",
     "output_type": "stream",
     "text": [
      "Workspace name: workspace-rainel\n",
      "Azure region: brazilsouth\n",
      "Subscription id: 611bccaf-ced7-4b1d-9395-57559c451c39\n",
      "Resource group: raineldias88-rg\n"
     ]
    }
   ],
   "source": [
    "from azureml.core import Workspace, Experiment\n",
    "ws = Workspace.from_config()\n",
    "exp = Experiment(workspace=ws, name=\"creditcardfraud\")\n",
    "\n",
    "print('Workspace name: ' + ws.name, \n",
    "      'Azure region: ' + ws.location, \n",
    "      'Subscription id: ' + ws.subscription_id, \n",
    "      'Resource group: ' + ws.resource_group, sep = '\\n')"
   ]
  },
  {
   "cell_type": "markdown",
   "metadata": {},
   "source": [
    "## Dataset\n",
    "\n",
    "### Overview\n",
    "I am using credit card transactions data from Kaggle ( more details on readme file). Problem statement is to predict whether the transaction is fraud (1) or not (0). This is a supervised binary classification task. "
   ]
  },
  {
   "cell_type": "code",
   "execution_count": 2,
   "metadata": {
    "gather": {
     "logged": 1613067438573
    },
    "jupyter": {
     "outputs_hidden": false,
     "source_hidden": false
    },
    "nteract": {
     "transient": {
      "deleting": false
     }
    }
   },
   "outputs": [],
   "source": [
    "from azureml.core import Dataset\n",
    "dataset = Dataset.get_by_name(ws, name='creditcard')\n",
    "df = dataset.to_pandas_dataframe()"
   ]
  },
  {
   "cell_type": "code",
   "execution_count": 3,
   "metadata": {
    "gather": {
     "logged": 1613067269651
    },
    "scrolled": true
   },
   "outputs": [
    {
     "data": {
      "text/html": [
       "<div>\n",
       "<style scoped>\n",
       "    .dataframe tbody tr th:only-of-type {\n",
       "        vertical-align: middle;\n",
       "    }\n",
       "\n",
       "    .dataframe tbody tr th {\n",
       "        vertical-align: top;\n",
       "    }\n",
       "\n",
       "    .dataframe thead th {\n",
       "        text-align: right;\n",
       "    }\n",
       "</style>\n",
       "<table border=\"1\" class=\"dataframe\">\n",
       "  <thead>\n",
       "    <tr style=\"text-align: right;\">\n",
       "      <th></th>\n",
       "      <th>Time</th>\n",
       "      <th>V1</th>\n",
       "      <th>V2</th>\n",
       "      <th>V3</th>\n",
       "      <th>V4</th>\n",
       "      <th>V5</th>\n",
       "      <th>V6</th>\n",
       "      <th>V7</th>\n",
       "      <th>V8</th>\n",
       "      <th>V9</th>\n",
       "      <th>...</th>\n",
       "      <th>V21</th>\n",
       "      <th>V22</th>\n",
       "      <th>V23</th>\n",
       "      <th>V24</th>\n",
       "      <th>V25</th>\n",
       "      <th>V26</th>\n",
       "      <th>V27</th>\n",
       "      <th>V28</th>\n",
       "      <th>Amount</th>\n",
       "      <th>Class</th>\n",
       "    </tr>\n",
       "  </thead>\n",
       "  <tbody>\n",
       "    <tr>\n",
       "      <th>0</th>\n",
       "      <td>0.0</td>\n",
       "      <td>-1.359807</td>\n",
       "      <td>-0.072781</td>\n",
       "      <td>2.536347</td>\n",
       "      <td>1.378155</td>\n",
       "      <td>-0.338321</td>\n",
       "      <td>0.462388</td>\n",
       "      <td>0.239599</td>\n",
       "      <td>0.098698</td>\n",
       "      <td>0.363787</td>\n",
       "      <td>...</td>\n",
       "      <td>-0.018307</td>\n",
       "      <td>0.277838</td>\n",
       "      <td>-0.110474</td>\n",
       "      <td>0.066928</td>\n",
       "      <td>0.128539</td>\n",
       "      <td>-0.189115</td>\n",
       "      <td>0.133558</td>\n",
       "      <td>-0.021053</td>\n",
       "      <td>149.62</td>\n",
       "      <td>0</td>\n",
       "    </tr>\n",
       "    <tr>\n",
       "      <th>1</th>\n",
       "      <td>0.0</td>\n",
       "      <td>1.191857</td>\n",
       "      <td>0.266151</td>\n",
       "      <td>0.166480</td>\n",
       "      <td>0.448154</td>\n",
       "      <td>0.060018</td>\n",
       "      <td>-0.082361</td>\n",
       "      <td>-0.078803</td>\n",
       "      <td>0.085102</td>\n",
       "      <td>-0.255425</td>\n",
       "      <td>...</td>\n",
       "      <td>-0.225775</td>\n",
       "      <td>-0.638672</td>\n",
       "      <td>0.101288</td>\n",
       "      <td>-0.339846</td>\n",
       "      <td>0.167170</td>\n",
       "      <td>0.125895</td>\n",
       "      <td>-0.008983</td>\n",
       "      <td>0.014724</td>\n",
       "      <td>2.69</td>\n",
       "      <td>0</td>\n",
       "    </tr>\n",
       "    <tr>\n",
       "      <th>2</th>\n",
       "      <td>1.0</td>\n",
       "      <td>-1.358354</td>\n",
       "      <td>-1.340163</td>\n",
       "      <td>1.773209</td>\n",
       "      <td>0.379780</td>\n",
       "      <td>-0.503198</td>\n",
       "      <td>1.800499</td>\n",
       "      <td>0.791461</td>\n",
       "      <td>0.247676</td>\n",
       "      <td>-1.514654</td>\n",
       "      <td>...</td>\n",
       "      <td>0.247998</td>\n",
       "      <td>0.771679</td>\n",
       "      <td>0.909412</td>\n",
       "      <td>-0.689281</td>\n",
       "      <td>-0.327642</td>\n",
       "      <td>-0.139097</td>\n",
       "      <td>-0.055353</td>\n",
       "      <td>-0.059752</td>\n",
       "      <td>378.66</td>\n",
       "      <td>0</td>\n",
       "    </tr>\n",
       "    <tr>\n",
       "      <th>3</th>\n",
       "      <td>1.0</td>\n",
       "      <td>-0.966272</td>\n",
       "      <td>-0.185226</td>\n",
       "      <td>1.792993</td>\n",
       "      <td>-0.863291</td>\n",
       "      <td>-0.010309</td>\n",
       "      <td>1.247203</td>\n",
       "      <td>0.237609</td>\n",
       "      <td>0.377436</td>\n",
       "      <td>-1.387024</td>\n",
       "      <td>...</td>\n",
       "      <td>-0.108300</td>\n",
       "      <td>0.005274</td>\n",
       "      <td>-0.190321</td>\n",
       "      <td>-1.175575</td>\n",
       "      <td>0.647376</td>\n",
       "      <td>-0.221929</td>\n",
       "      <td>0.062723</td>\n",
       "      <td>0.061458</td>\n",
       "      <td>123.50</td>\n",
       "      <td>0</td>\n",
       "    </tr>\n",
       "    <tr>\n",
       "      <th>4</th>\n",
       "      <td>2.0</td>\n",
       "      <td>-1.158233</td>\n",
       "      <td>0.877737</td>\n",
       "      <td>1.548718</td>\n",
       "      <td>0.403034</td>\n",
       "      <td>-0.407193</td>\n",
       "      <td>0.095921</td>\n",
       "      <td>0.592941</td>\n",
       "      <td>-0.270533</td>\n",
       "      <td>0.817739</td>\n",
       "      <td>...</td>\n",
       "      <td>-0.009431</td>\n",
       "      <td>0.798278</td>\n",
       "      <td>-0.137458</td>\n",
       "      <td>0.141267</td>\n",
       "      <td>-0.206010</td>\n",
       "      <td>0.502292</td>\n",
       "      <td>0.219422</td>\n",
       "      <td>0.215153</td>\n",
       "      <td>69.99</td>\n",
       "      <td>0</td>\n",
       "    </tr>\n",
       "  </tbody>\n",
       "</table>\n",
       "<p>5 rows × 31 columns</p>\n",
       "</div>"
      ],
      "text/plain": [
       "   Time        V1        V2        V3        V4        V5        V6        V7  \\\n",
       "0   0.0 -1.359807 -0.072781  2.536347  1.378155 -0.338321  0.462388  0.239599   \n",
       "1   0.0  1.191857  0.266151  0.166480  0.448154  0.060018 -0.082361 -0.078803   \n",
       "2   1.0 -1.358354 -1.340163  1.773209  0.379780 -0.503198  1.800499  0.791461   \n",
       "3   1.0 -0.966272 -0.185226  1.792993 -0.863291 -0.010309  1.247203  0.237609   \n",
       "4   2.0 -1.158233  0.877737  1.548718  0.403034 -0.407193  0.095921  0.592941   \n",
       "\n",
       "         V8        V9  ...       V21       V22       V23       V24       V25  \\\n",
       "0  0.098698  0.363787  ... -0.018307  0.277838 -0.110474  0.066928  0.128539   \n",
       "1  0.085102 -0.255425  ... -0.225775 -0.638672  0.101288 -0.339846  0.167170   \n",
       "2  0.247676 -1.514654  ...  0.247998  0.771679  0.909412 -0.689281 -0.327642   \n",
       "3  0.377436 -1.387024  ... -0.108300  0.005274 -0.190321 -1.175575  0.647376   \n",
       "4 -0.270533  0.817739  ... -0.009431  0.798278 -0.137458  0.141267 -0.206010   \n",
       "\n",
       "        V26       V27       V28  Amount  Class  \n",
       "0 -0.189115  0.133558 -0.021053  149.62      0  \n",
       "1  0.125895 -0.008983  0.014724    2.69      0  \n",
       "2 -0.139097 -0.055353 -0.059752  378.66      0  \n",
       "3 -0.221929  0.062723  0.061458  123.50      0  \n",
       "4  0.502292  0.219422  0.215153   69.99      0  \n",
       "\n",
       "[5 rows x 31 columns]"
      ]
     },
     "execution_count": 3,
     "metadata": {},
     "output_type": "execute_result"
    }
   ],
   "source": [
    "#Check the data frame by running head\n",
    "df.head()"
   ]
  },
  {
   "cell_type": "code",
   "execution_count": 4,
   "metadata": {
    "scrolled": true
   },
   "outputs": [
    {
     "data": {
      "text/html": [
       "<div>\n",
       "<style scoped>\n",
       "    .dataframe tbody tr th:only-of-type {\n",
       "        vertical-align: middle;\n",
       "    }\n",
       "\n",
       "    .dataframe tbody tr th {\n",
       "        vertical-align: top;\n",
       "    }\n",
       "\n",
       "    .dataframe thead th {\n",
       "        text-align: right;\n",
       "    }\n",
       "</style>\n",
       "<table border=\"1\" class=\"dataframe\">\n",
       "  <thead>\n",
       "    <tr style=\"text-align: right;\">\n",
       "      <th></th>\n",
       "      <th>Time</th>\n",
       "      <th>V1</th>\n",
       "      <th>V2</th>\n",
       "      <th>V3</th>\n",
       "      <th>V4</th>\n",
       "      <th>V5</th>\n",
       "      <th>V6</th>\n",
       "      <th>V7</th>\n",
       "      <th>V8</th>\n",
       "      <th>V9</th>\n",
       "      <th>...</th>\n",
       "      <th>V21</th>\n",
       "      <th>V22</th>\n",
       "      <th>V23</th>\n",
       "      <th>V24</th>\n",
       "      <th>V25</th>\n",
       "      <th>V26</th>\n",
       "      <th>V27</th>\n",
       "      <th>V28</th>\n",
       "      <th>Amount</th>\n",
       "      <th>Class</th>\n",
       "    </tr>\n",
       "  </thead>\n",
       "  <tbody>\n",
       "    <tr>\n",
       "      <th>count</th>\n",
       "      <td>284806.000000</td>\n",
       "      <td>2.848070e+05</td>\n",
       "      <td>2.848070e+05</td>\n",
       "      <td>2.848070e+05</td>\n",
       "      <td>2.848070e+05</td>\n",
       "      <td>2.848070e+05</td>\n",
       "      <td>2.848070e+05</td>\n",
       "      <td>2.848070e+05</td>\n",
       "      <td>2.848070e+05</td>\n",
       "      <td>2.848070e+05</td>\n",
       "      <td>...</td>\n",
       "      <td>2.848070e+05</td>\n",
       "      <td>2.848070e+05</td>\n",
       "      <td>2.848070e+05</td>\n",
       "      <td>2.848070e+05</td>\n",
       "      <td>2.848070e+05</td>\n",
       "      <td>2.848070e+05</td>\n",
       "      <td>2.848070e+05</td>\n",
       "      <td>2.848070e+05</td>\n",
       "      <td>284807.000000</td>\n",
       "      <td>284807.000000</td>\n",
       "    </tr>\n",
       "    <tr>\n",
       "      <th>mean</th>\n",
       "      <td>94813.841366</td>\n",
       "      <td>3.918649e-15</td>\n",
       "      <td>5.682686e-16</td>\n",
       "      <td>-8.761736e-15</td>\n",
       "      <td>2.811118e-15</td>\n",
       "      <td>-1.552103e-15</td>\n",
       "      <td>2.040130e-15</td>\n",
       "      <td>-1.698953e-15</td>\n",
       "      <td>-1.958151e-16</td>\n",
       "      <td>-3.147640e-15</td>\n",
       "      <td>...</td>\n",
       "      <td>1.471982e-16</td>\n",
       "      <td>8.042109e-16</td>\n",
       "      <td>5.282450e-16</td>\n",
       "      <td>4.458267e-15</td>\n",
       "      <td>1.426896e-15</td>\n",
       "      <td>1.701640e-15</td>\n",
       "      <td>-3.671606e-16</td>\n",
       "      <td>-1.218152e-16</td>\n",
       "      <td>88.349619</td>\n",
       "      <td>0.001727</td>\n",
       "    </tr>\n",
       "    <tr>\n",
       "      <th>std</th>\n",
       "      <td>47488.228330</td>\n",
       "      <td>1.958696e+00</td>\n",
       "      <td>1.651309e+00</td>\n",
       "      <td>1.516255e+00</td>\n",
       "      <td>1.415869e+00</td>\n",
       "      <td>1.380247e+00</td>\n",
       "      <td>1.332271e+00</td>\n",
       "      <td>1.237094e+00</td>\n",
       "      <td>1.194353e+00</td>\n",
       "      <td>1.098632e+00</td>\n",
       "      <td>...</td>\n",
       "      <td>7.345240e-01</td>\n",
       "      <td>7.257016e-01</td>\n",
       "      <td>6.244603e-01</td>\n",
       "      <td>6.056471e-01</td>\n",
       "      <td>5.212781e-01</td>\n",
       "      <td>4.822270e-01</td>\n",
       "      <td>4.036325e-01</td>\n",
       "      <td>3.300833e-01</td>\n",
       "      <td>250.120109</td>\n",
       "      <td>0.041527</td>\n",
       "    </tr>\n",
       "    <tr>\n",
       "      <th>min</th>\n",
       "      <td>0.000000</td>\n",
       "      <td>-5.640751e+01</td>\n",
       "      <td>-7.271573e+01</td>\n",
       "      <td>-4.832559e+01</td>\n",
       "      <td>-5.683171e+00</td>\n",
       "      <td>-1.137433e+02</td>\n",
       "      <td>-2.616051e+01</td>\n",
       "      <td>-4.355724e+01</td>\n",
       "      <td>-7.321672e+01</td>\n",
       "      <td>-1.343407e+01</td>\n",
       "      <td>...</td>\n",
       "      <td>-3.483038e+01</td>\n",
       "      <td>-1.093314e+01</td>\n",
       "      <td>-4.480774e+01</td>\n",
       "      <td>-2.836627e+00</td>\n",
       "      <td>-1.029540e+01</td>\n",
       "      <td>-2.604551e+00</td>\n",
       "      <td>-2.256568e+01</td>\n",
       "      <td>-1.543008e+01</td>\n",
       "      <td>0.000000</td>\n",
       "      <td>0.000000</td>\n",
       "    </tr>\n",
       "    <tr>\n",
       "      <th>25%</th>\n",
       "      <td>54201.250000</td>\n",
       "      <td>-9.203734e-01</td>\n",
       "      <td>-5.985499e-01</td>\n",
       "      <td>-8.903648e-01</td>\n",
       "      <td>-8.486401e-01</td>\n",
       "      <td>-6.915971e-01</td>\n",
       "      <td>-7.682956e-01</td>\n",
       "      <td>-5.540759e-01</td>\n",
       "      <td>-2.086297e-01</td>\n",
       "      <td>-6.430976e-01</td>\n",
       "      <td>...</td>\n",
       "      <td>-2.283949e-01</td>\n",
       "      <td>-5.423504e-01</td>\n",
       "      <td>-1.618463e-01</td>\n",
       "      <td>-3.545861e-01</td>\n",
       "      <td>-3.171451e-01</td>\n",
       "      <td>-3.269839e-01</td>\n",
       "      <td>-7.083953e-02</td>\n",
       "      <td>-5.295979e-02</td>\n",
       "      <td>5.600000</td>\n",
       "      <td>0.000000</td>\n",
       "    </tr>\n",
       "    <tr>\n",
       "      <th>50%</th>\n",
       "      <td>84691.500000</td>\n",
       "      <td>1.810880e-02</td>\n",
       "      <td>6.548556e-02</td>\n",
       "      <td>1.798463e-01</td>\n",
       "      <td>-1.984653e-02</td>\n",
       "      <td>-5.433583e-02</td>\n",
       "      <td>-2.741871e-01</td>\n",
       "      <td>4.010308e-02</td>\n",
       "      <td>2.235804e-02</td>\n",
       "      <td>-5.142873e-02</td>\n",
       "      <td>...</td>\n",
       "      <td>-2.945017e-02</td>\n",
       "      <td>6.781943e-03</td>\n",
       "      <td>-1.119293e-02</td>\n",
       "      <td>4.097606e-02</td>\n",
       "      <td>1.659350e-02</td>\n",
       "      <td>-5.213911e-02</td>\n",
       "      <td>1.342146e-03</td>\n",
       "      <td>1.124383e-02</td>\n",
       "      <td>22.000000</td>\n",
       "      <td>0.000000</td>\n",
       "    </tr>\n",
       "    <tr>\n",
       "      <th>75%</th>\n",
       "      <td>139320.750000</td>\n",
       "      <td>1.315642e+00</td>\n",
       "      <td>8.037239e-01</td>\n",
       "      <td>1.027196e+00</td>\n",
       "      <td>7.433413e-01</td>\n",
       "      <td>6.119264e-01</td>\n",
       "      <td>3.985649e-01</td>\n",
       "      <td>5.704361e-01</td>\n",
       "      <td>3.273459e-01</td>\n",
       "      <td>5.971390e-01</td>\n",
       "      <td>...</td>\n",
       "      <td>1.863772e-01</td>\n",
       "      <td>5.285536e-01</td>\n",
       "      <td>1.476421e-01</td>\n",
       "      <td>4.395266e-01</td>\n",
       "      <td>3.507156e-01</td>\n",
       "      <td>2.409522e-01</td>\n",
       "      <td>9.104512e-02</td>\n",
       "      <td>7.827995e-02</td>\n",
       "      <td>77.165000</td>\n",
       "      <td>0.000000</td>\n",
       "    </tr>\n",
       "    <tr>\n",
       "      <th>max</th>\n",
       "      <td>172792.000000</td>\n",
       "      <td>2.454930e+00</td>\n",
       "      <td>2.205773e+01</td>\n",
       "      <td>9.382558e+00</td>\n",
       "      <td>1.687534e+01</td>\n",
       "      <td>3.480167e+01</td>\n",
       "      <td>7.330163e+01</td>\n",
       "      <td>1.205895e+02</td>\n",
       "      <td>2.000721e+01</td>\n",
       "      <td>1.559499e+01</td>\n",
       "      <td>...</td>\n",
       "      <td>2.720284e+01</td>\n",
       "      <td>1.050309e+01</td>\n",
       "      <td>2.252841e+01</td>\n",
       "      <td>4.584549e+00</td>\n",
       "      <td>7.519589e+00</td>\n",
       "      <td>3.517346e+00</td>\n",
       "      <td>3.161220e+01</td>\n",
       "      <td>3.384781e+01</td>\n",
       "      <td>25691.160000</td>\n",
       "      <td>1.000000</td>\n",
       "    </tr>\n",
       "  </tbody>\n",
       "</table>\n",
       "<p>8 rows × 31 columns</p>\n",
       "</div>"
      ],
      "text/plain": [
       "                Time            V1            V2            V3            V4  \\\n",
       "count  284806.000000  2.848070e+05  2.848070e+05  2.848070e+05  2.848070e+05   \n",
       "mean    94813.841366  3.918649e-15  5.682686e-16 -8.761736e-15  2.811118e-15   \n",
       "std     47488.228330  1.958696e+00  1.651309e+00  1.516255e+00  1.415869e+00   \n",
       "min         0.000000 -5.640751e+01 -7.271573e+01 -4.832559e+01 -5.683171e+00   \n",
       "25%     54201.250000 -9.203734e-01 -5.985499e-01 -8.903648e-01 -8.486401e-01   \n",
       "50%     84691.500000  1.810880e-02  6.548556e-02  1.798463e-01 -1.984653e-02   \n",
       "75%    139320.750000  1.315642e+00  8.037239e-01  1.027196e+00  7.433413e-01   \n",
       "max    172792.000000  2.454930e+00  2.205773e+01  9.382558e+00  1.687534e+01   \n",
       "\n",
       "                 V5            V6            V7            V8            V9  \\\n",
       "count  2.848070e+05  2.848070e+05  2.848070e+05  2.848070e+05  2.848070e+05   \n",
       "mean  -1.552103e-15  2.040130e-15 -1.698953e-15 -1.958151e-16 -3.147640e-15   \n",
       "std    1.380247e+00  1.332271e+00  1.237094e+00  1.194353e+00  1.098632e+00   \n",
       "min   -1.137433e+02 -2.616051e+01 -4.355724e+01 -7.321672e+01 -1.343407e+01   \n",
       "25%   -6.915971e-01 -7.682956e-01 -5.540759e-01 -2.086297e-01 -6.430976e-01   \n",
       "50%   -5.433583e-02 -2.741871e-01  4.010308e-02  2.235804e-02 -5.142873e-02   \n",
       "75%    6.119264e-01  3.985649e-01  5.704361e-01  3.273459e-01  5.971390e-01   \n",
       "max    3.480167e+01  7.330163e+01  1.205895e+02  2.000721e+01  1.559499e+01   \n",
       "\n",
       "       ...           V21           V22           V23           V24  \\\n",
       "count  ...  2.848070e+05  2.848070e+05  2.848070e+05  2.848070e+05   \n",
       "mean   ...  1.471982e-16  8.042109e-16  5.282450e-16  4.458267e-15   \n",
       "std    ...  7.345240e-01  7.257016e-01  6.244603e-01  6.056471e-01   \n",
       "min    ... -3.483038e+01 -1.093314e+01 -4.480774e+01 -2.836627e+00   \n",
       "25%    ... -2.283949e-01 -5.423504e-01 -1.618463e-01 -3.545861e-01   \n",
       "50%    ... -2.945017e-02  6.781943e-03 -1.119293e-02  4.097606e-02   \n",
       "75%    ...  1.863772e-01  5.285536e-01  1.476421e-01  4.395266e-01   \n",
       "max    ...  2.720284e+01  1.050309e+01  2.252841e+01  4.584549e+00   \n",
       "\n",
       "                V25           V26           V27           V28         Amount  \\\n",
       "count  2.848070e+05  2.848070e+05  2.848070e+05  2.848070e+05  284807.000000   \n",
       "mean   1.426896e-15  1.701640e-15 -3.671606e-16 -1.218152e-16      88.349619   \n",
       "std    5.212781e-01  4.822270e-01  4.036325e-01  3.300833e-01     250.120109   \n",
       "min   -1.029540e+01 -2.604551e+00 -2.256568e+01 -1.543008e+01       0.000000   \n",
       "25%   -3.171451e-01 -3.269839e-01 -7.083953e-02 -5.295979e-02       5.600000   \n",
       "50%    1.659350e-02 -5.213911e-02  1.342146e-03  1.124383e-02      22.000000   \n",
       "75%    3.507156e-01  2.409522e-01  9.104512e-02  7.827995e-02      77.165000   \n",
       "max    7.519589e+00  3.517346e+00  3.161220e+01  3.384781e+01   25691.160000   \n",
       "\n",
       "               Class  \n",
       "count  284807.000000  \n",
       "mean        0.001727  \n",
       "std         0.041527  \n",
       "min         0.000000  \n",
       "25%         0.000000  \n",
       "50%         0.000000  \n",
       "75%         0.000000  \n",
       "max         1.000000  \n",
       "\n",
       "[8 rows x 31 columns]"
      ]
     },
     "execution_count": 4,
     "metadata": {},
     "output_type": "execute_result"
    }
   ],
   "source": [
    "## check the stats\n",
    "df.describe()"
   ]
  },
  {
   "cell_type": "code",
   "execution_count": 5,
   "metadata": {
    "scrolled": true
   },
   "outputs": [
    {
     "data": {
      "text/plain": [
       "0    0.998273\n",
       "1    0.001727\n",
       "Name: Class, dtype: float64"
      ]
     },
     "execution_count": 5,
     "metadata": {},
     "output_type": "execute_result"
    }
   ],
   "source": [
    "# check how output column is distributed\n",
    "\n",
    "df['Class'].value_counts(normalize=True)"
   ]
  },
  {
   "cell_type": "markdown",
   "metadata": {},
   "source": [
    "#### As we can see above that the data is heavily imbalanced, there is below 1% fraud cases, so I will be using AUC weighted metric for evaluation instead of using just the accuracy."
   ]
  },
  {
   "cell_type": "code",
   "execution_count": 6,
   "metadata": {
    "scrolled": true
   },
   "outputs": [
    {
     "data": {
      "application/vnd.jupyter.widget-view+json": {
       "model_id": "6ae535e55d9948df92a45415aff522b8",
       "version_major": 2,
       "version_minor": 0
      },
      "text/plain": [
       "Summarize dataset:   0%|          | 0/5 [00:00<?, ?it/s]"
      ]
     },
     "metadata": {},
     "output_type": "display_data"
    },
    {
     "data": {
      "application/vnd.jupyter.widget-view+json": {
       "model_id": "e60d485bf770435c9957993437d26e46",
       "version_major": 2,
       "version_minor": 0
      },
      "text/plain": [
       "Generate report structure:   0%|          | 0/1 [00:00<?, ?it/s]"
      ]
     },
     "metadata": {},
     "output_type": "display_data"
    },
    {
     "data": {
      "application/vnd.jupyter.widget-view+json": {
       "model_id": "ffb9bc0dc5a84e2f9c6be384404ec8de",
       "version_major": 2,
       "version_minor": 0
      },
      "text/plain": [
       "Render HTML:   0%|          | 0/1 [00:00<?, ?it/s]"
      ]
     },
     "metadata": {},
     "output_type": "display_data"
    },
    {
     "data": {
      "application/vnd.jupyter.widget-view+json": {
       "model_id": "ce7bb06e8b29446a87b5f6d9deb54c4b",
       "version_major": 2,
       "version_minor": 0
      },
      "text/plain": [
       "Export report to file:   0%|          | 0/1 [00:00<?, ?it/s]"
      ]
     },
     "metadata": {},
     "output_type": "display_data"
    }
   ],
   "source": [
    "# Using pandas profiling package to get exploratory data analysis (EDA) report on HTML format.\n",
    "# The report is added to my repo as output_profile, this captures detailed EDA and descriptive statistics on data\n",
    "\n",
    "from pandas_profiling import ProfileReport\n",
    "prof = ProfileReport(df)\n",
    "prof.to_file(output_file='output_profile.html')"
   ]
  },
  {
   "cell_type": "markdown",
   "metadata": {},
   "source": [
    "## Getting the Data Ready for Modeling"
   ]
  },
  {
   "cell_type": "code",
   "execution_count": 7,
   "metadata": {
    "scrolled": true
   },
   "outputs": [
    {
     "name": "stdout",
     "output_type": "stream",
     "text": [
      "InProgress..\n",
      "SucceededProvisioning operation finished, operation \"Succeeded\"\n",
      "Succeeded\n",
      "AmlCompute wait for completion finished\n",
      "\n",
      "Minimum number of nodes requested have been provisioned\n"
     ]
    }
   ],
   "source": [
    "# check if compute clusters are set up\n",
    "from azureml.core.compute import ComputeTarget, AmlCompute\n",
    "from azureml.core.compute_target import ComputeTargetException\n",
    "\n",
    "cpu_cluster_name = \"compute-cluster\"\n",
    "try:\n",
    "    cpu_cluster = ComputeTarget(workspace=ws, name=cpu_cluster_name)\n",
    "except ComputeTargetException:\n",
    "    compute_config = AmlCompute.provisioning_configuration(vm_size='STANDARD_D2_V2', max_nodes=4)\n",
    "    cpu_cluster = ComputeTarget.create(ws, cpu_cluster_name, compute_config)\n",
    "cpu_cluster.wait_for_completion(show_output=True)"
   ]
  },
  {
   "cell_type": "markdown",
   "metadata": {},
   "source": [
    "### Splitting the data in training and test, and uploading dataset to the workspace for AutoML "
   ]
  },
  {
   "cell_type": "code",
   "execution_count": 8,
   "metadata": {},
   "outputs": [],
   "source": [
    "## Split the Training data and test data\n",
    "y = df.iloc[:,-1].values   # output variable\n",
    "X = df.iloc[:, :-1].values  # feature variables"
   ]
  },
  {
   "cell_type": "code",
   "execution_count": 9,
   "metadata": {},
   "outputs": [],
   "source": [
    "#split the data set into train and test\n",
    "from sklearn.model_selection import train_test_split\n",
    "X_train, X_test, y_train, y_test = train_test_split(X, y, test_size=0.2, random_state=42)"
   ]
  },
  {
   "cell_type": "code",
   "execution_count": 10,
   "metadata": {},
   "outputs": [],
   "source": [
    "import pandas as pd\n",
    "df_train = pd.concat([pd.DataFrame(X_train), pd.DataFrame(y_train)], axis=1)"
   ]
  },
  {
   "cell_type": "code",
   "execution_count": 11,
   "metadata": {
    "scrolled": false
   },
   "outputs": [
    {
     "data": {
      "text/plain": [
       "(227845, 31)"
      ]
     },
     "execution_count": 11,
     "metadata": {},
     "output_type": "execute_result"
    }
   ],
   "source": [
    "df_train.shape # merged training data to be passed to automl"
   ]
  },
  {
   "cell_type": "code",
   "execution_count": 12,
   "metadata": {},
   "outputs": [],
   "source": [
    "columns= df.columns"
   ]
  },
  {
   "cell_type": "code",
   "execution_count": 13,
   "metadata": {},
   "outputs": [],
   "source": [
    "df_train.columns= columns"
   ]
  },
  {
   "cell_type": "code",
   "execution_count": 14,
   "metadata": {},
   "outputs": [],
   "source": [
    "df_train['Class'] = df_train['Class'].astype(bool)"
   ]
  },
  {
   "cell_type": "code",
   "execution_count": 15,
   "metadata": {
    "scrolled": true
   },
   "outputs": [
    {
     "data": {
      "text/html": [
       "<div>\n",
       "<style scoped>\n",
       "    .dataframe tbody tr th:only-of-type {\n",
       "        vertical-align: middle;\n",
       "    }\n",
       "\n",
       "    .dataframe tbody tr th {\n",
       "        vertical-align: top;\n",
       "    }\n",
       "\n",
       "    .dataframe thead th {\n",
       "        text-align: right;\n",
       "    }\n",
       "</style>\n",
       "<table border=\"1\" class=\"dataframe\">\n",
       "  <thead>\n",
       "    <tr style=\"text-align: right;\">\n",
       "      <th></th>\n",
       "      <th>Time</th>\n",
       "      <th>V1</th>\n",
       "      <th>V2</th>\n",
       "      <th>V3</th>\n",
       "      <th>V4</th>\n",
       "      <th>V5</th>\n",
       "      <th>V6</th>\n",
       "      <th>V7</th>\n",
       "      <th>V8</th>\n",
       "      <th>V9</th>\n",
       "      <th>...</th>\n",
       "      <th>V21</th>\n",
       "      <th>V22</th>\n",
       "      <th>V23</th>\n",
       "      <th>V24</th>\n",
       "      <th>V25</th>\n",
       "      <th>V26</th>\n",
       "      <th>V27</th>\n",
       "      <th>V28</th>\n",
       "      <th>Amount</th>\n",
       "      <th>Class</th>\n",
       "    </tr>\n",
       "  </thead>\n",
       "  <tbody>\n",
       "    <tr>\n",
       "      <th>0</th>\n",
       "      <td>143352.0</td>\n",
       "      <td>1.955041</td>\n",
       "      <td>-0.380783</td>\n",
       "      <td>-0.315013</td>\n",
       "      <td>0.330155</td>\n",
       "      <td>-0.509374</td>\n",
       "      <td>-0.086197</td>\n",
       "      <td>-0.627978</td>\n",
       "      <td>0.035994</td>\n",
       "      <td>1.054560</td>\n",
       "      <td>...</td>\n",
       "      <td>0.238197</td>\n",
       "      <td>0.968305</td>\n",
       "      <td>0.053208</td>\n",
       "      <td>-0.278602</td>\n",
       "      <td>-0.044999</td>\n",
       "      <td>-0.216780</td>\n",
       "      <td>0.045168</td>\n",
       "      <td>-0.047145</td>\n",
       "      <td>9.99</td>\n",
       "      <td>False</td>\n",
       "    </tr>\n",
       "    <tr>\n",
       "      <th>1</th>\n",
       "      <td>117173.0</td>\n",
       "      <td>-0.400975</td>\n",
       "      <td>-0.626943</td>\n",
       "      <td>1.555339</td>\n",
       "      <td>-2.017772</td>\n",
       "      <td>-0.107769</td>\n",
       "      <td>0.168310</td>\n",
       "      <td>0.017959</td>\n",
       "      <td>-0.401619</td>\n",
       "      <td>0.040378</td>\n",
       "      <td>...</td>\n",
       "      <td>-0.153485</td>\n",
       "      <td>0.421703</td>\n",
       "      <td>0.113442</td>\n",
       "      <td>-1.004095</td>\n",
       "      <td>-1.176695</td>\n",
       "      <td>0.361924</td>\n",
       "      <td>-0.370469</td>\n",
       "      <td>-0.144792</td>\n",
       "      <td>45.90</td>\n",
       "      <td>False</td>\n",
       "    </tr>\n",
       "    <tr>\n",
       "      <th>2</th>\n",
       "      <td>149565.0</td>\n",
       "      <td>0.072509</td>\n",
       "      <td>0.820566</td>\n",
       "      <td>-0.561351</td>\n",
       "      <td>-0.709897</td>\n",
       "      <td>1.080399</td>\n",
       "      <td>-0.359429</td>\n",
       "      <td>0.787858</td>\n",
       "      <td>0.117276</td>\n",
       "      <td>-0.131275</td>\n",
       "      <td>...</td>\n",
       "      <td>-0.314638</td>\n",
       "      <td>-0.872959</td>\n",
       "      <td>0.083391</td>\n",
       "      <td>0.148178</td>\n",
       "      <td>-0.431459</td>\n",
       "      <td>0.119690</td>\n",
       "      <td>0.206395</td>\n",
       "      <td>0.070288</td>\n",
       "      <td>11.99</td>\n",
       "      <td>False</td>\n",
       "    </tr>\n",
       "    <tr>\n",
       "      <th>3</th>\n",
       "      <td>93670.0</td>\n",
       "      <td>-0.535045</td>\n",
       "      <td>1.014587</td>\n",
       "      <td>1.750679</td>\n",
       "      <td>2.769390</td>\n",
       "      <td>0.500089</td>\n",
       "      <td>1.002270</td>\n",
       "      <td>0.847902</td>\n",
       "      <td>-0.081323</td>\n",
       "      <td>0.371579</td>\n",
       "      <td>...</td>\n",
       "      <td>0.063525</td>\n",
       "      <td>0.443431</td>\n",
       "      <td>-0.072754</td>\n",
       "      <td>0.448192</td>\n",
       "      <td>-0.655203</td>\n",
       "      <td>-0.181038</td>\n",
       "      <td>-0.093013</td>\n",
       "      <td>-0.064931</td>\n",
       "      <td>117.44</td>\n",
       "      <td>False</td>\n",
       "    </tr>\n",
       "    <tr>\n",
       "      <th>4</th>\n",
       "      <td>82655.0</td>\n",
       "      <td>-4.026938</td>\n",
       "      <td>1.897371</td>\n",
       "      <td>-0.429786</td>\n",
       "      <td>-0.029571</td>\n",
       "      <td>-0.855751</td>\n",
       "      <td>-0.480406</td>\n",
       "      <td>-0.435632</td>\n",
       "      <td>1.313760</td>\n",
       "      <td>0.536044</td>\n",
       "      <td>...</td>\n",
       "      <td>-0.480691</td>\n",
       "      <td>-0.230369</td>\n",
       "      <td>0.250717</td>\n",
       "      <td>0.066399</td>\n",
       "      <td>0.470787</td>\n",
       "      <td>0.245335</td>\n",
       "      <td>0.286904</td>\n",
       "      <td>-0.322672</td>\n",
       "      <td>25.76</td>\n",
       "      <td>False</td>\n",
       "    </tr>\n",
       "  </tbody>\n",
       "</table>\n",
       "<p>5 rows × 31 columns</p>\n",
       "</div>"
      ],
      "text/plain": [
       "       Time        V1        V2        V3        V4        V5        V6  \\\n",
       "0  143352.0  1.955041 -0.380783 -0.315013  0.330155 -0.509374 -0.086197   \n",
       "1  117173.0 -0.400975 -0.626943  1.555339 -2.017772 -0.107769  0.168310   \n",
       "2  149565.0  0.072509  0.820566 -0.561351 -0.709897  1.080399 -0.359429   \n",
       "3   93670.0 -0.535045  1.014587  1.750679  2.769390  0.500089  1.002270   \n",
       "4   82655.0 -4.026938  1.897371 -0.429786 -0.029571 -0.855751 -0.480406   \n",
       "\n",
       "         V7        V8        V9  ...       V21       V22       V23       V24  \\\n",
       "0 -0.627978  0.035994  1.054560  ...  0.238197  0.968305  0.053208 -0.278602   \n",
       "1  0.017959 -0.401619  0.040378  ... -0.153485  0.421703  0.113442 -1.004095   \n",
       "2  0.787858  0.117276 -0.131275  ... -0.314638 -0.872959  0.083391  0.148178   \n",
       "3  0.847902 -0.081323  0.371579  ...  0.063525  0.443431 -0.072754  0.448192   \n",
       "4 -0.435632  1.313760  0.536044  ... -0.480691 -0.230369  0.250717  0.066399   \n",
       "\n",
       "        V25       V26       V27       V28  Amount  Class  \n",
       "0 -0.044999 -0.216780  0.045168 -0.047145    9.99  False  \n",
       "1 -1.176695  0.361924 -0.370469 -0.144792   45.90  False  \n",
       "2 -0.431459  0.119690  0.206395  0.070288   11.99  False  \n",
       "3 -0.655203 -0.181038 -0.093013 -0.064931  117.44  False  \n",
       "4  0.470787  0.245335  0.286904 -0.322672   25.76  False  \n",
       "\n",
       "[5 rows x 31 columns]"
      ]
     },
     "execution_count": 15,
     "metadata": {},
     "output_type": "execute_result"
    }
   ],
   "source": [
    "df_train.head()"
   ]
  },
  {
   "cell_type": "code",
   "execution_count": 16,
   "metadata": {},
   "outputs": [
    {
     "name": "stdout",
     "output_type": "stream",
     "text": [
      "Validating arguments.\n",
      "Arguments validated.\n",
      "Successfully obtained datastore reference and path.\n",
      "Uploading file to managed-dataset/11bbceed-75f0-40ed-b9b9-3ff2956827d6/\n",
      "Successfully uploaded file to datastore.\n",
      "Creating and registering a new dataset.\n",
      "Successfully created and registered a new dataset.\n"
     ]
    },
    {
     "data": {
      "text/plain": [
       "{\n",
       "  \"source\": [\n",
       "    \"('workspaceblobstore', 'managed-dataset/11bbceed-75f0-40ed-b9b9-3ff2956827d6/')\"\n",
       "  ],\n",
       "  \"definition\": [\n",
       "    \"GetDatastoreFiles\",\n",
       "    \"ReadParquetFile\",\n",
       "    \"DropColumns\"\n",
       "  ],\n",
       "  \"registration\": {\n",
       "    \"id\": \"068abf42-312c-4a90-a7e9-84ee5e60a968\",\n",
       "    \"name\": \"df_train_tabular\",\n",
       "    \"version\": 1,\n",
       "    \"workspace\": \"Workspace.create(name='workspace-rainel', subscription_id='611bccaf-ced7-4b1d-9395-57559c451c39', resource_group='raineldias88-rg')\"\n",
       "  }\n",
       "}"
      ]
     },
     "execution_count": 16,
     "metadata": {},
     "output_type": "execute_result"
    }
   ],
   "source": [
    "from azureml.core import Dataset, Datastore\n",
    "from azureml.data.datapath import DataPath\n",
    "\n",
    "def_blob_store = ws.get_default_datastore()\n",
    "Dataset.Tabular.register_pandas_dataframe(df_train, target= def_blob_store, name= \"df_train_tabular\", description=None, tags=None, show_progress=True)"
   ]
  },
  {
   "cell_type": "code",
   "execution_count": 17,
   "metadata": {},
   "outputs": [
    {
     "data": {
      "text/html": [
       "<div>\n",
       "<style scoped>\n",
       "    .dataframe tbody tr th:only-of-type {\n",
       "        vertical-align: middle;\n",
       "    }\n",
       "\n",
       "    .dataframe tbody tr th {\n",
       "        vertical-align: top;\n",
       "    }\n",
       "\n",
       "    .dataframe thead th {\n",
       "        text-align: right;\n",
       "    }\n",
       "</style>\n",
       "<table border=\"1\" class=\"dataframe\">\n",
       "  <thead>\n",
       "    <tr style=\"text-align: right;\">\n",
       "      <th></th>\n",
       "      <th>Time</th>\n",
       "      <th>V1</th>\n",
       "      <th>V2</th>\n",
       "      <th>V3</th>\n",
       "      <th>V4</th>\n",
       "      <th>V5</th>\n",
       "      <th>V6</th>\n",
       "      <th>V7</th>\n",
       "      <th>V8</th>\n",
       "      <th>V9</th>\n",
       "      <th>...</th>\n",
       "      <th>V21</th>\n",
       "      <th>V22</th>\n",
       "      <th>V23</th>\n",
       "      <th>V24</th>\n",
       "      <th>V25</th>\n",
       "      <th>V26</th>\n",
       "      <th>V27</th>\n",
       "      <th>V28</th>\n",
       "      <th>Amount</th>\n",
       "      <th>Class</th>\n",
       "    </tr>\n",
       "  </thead>\n",
       "  <tbody>\n",
       "    <tr>\n",
       "      <th>0</th>\n",
       "      <td>143352.0</td>\n",
       "      <td>1.955041</td>\n",
       "      <td>-0.380783</td>\n",
       "      <td>-0.315013</td>\n",
       "      <td>0.330155</td>\n",
       "      <td>-0.509374</td>\n",
       "      <td>-0.086197</td>\n",
       "      <td>-0.627978</td>\n",
       "      <td>0.035994</td>\n",
       "      <td>1.054560</td>\n",
       "      <td>...</td>\n",
       "      <td>0.238197</td>\n",
       "      <td>0.968305</td>\n",
       "      <td>0.053208</td>\n",
       "      <td>-0.278602</td>\n",
       "      <td>-0.044999</td>\n",
       "      <td>-0.216780</td>\n",
       "      <td>0.045168</td>\n",
       "      <td>-0.047145</td>\n",
       "      <td>9.99</td>\n",
       "      <td>False</td>\n",
       "    </tr>\n",
       "    <tr>\n",
       "      <th>1</th>\n",
       "      <td>117173.0</td>\n",
       "      <td>-0.400975</td>\n",
       "      <td>-0.626943</td>\n",
       "      <td>1.555339</td>\n",
       "      <td>-2.017772</td>\n",
       "      <td>-0.107769</td>\n",
       "      <td>0.168310</td>\n",
       "      <td>0.017959</td>\n",
       "      <td>-0.401619</td>\n",
       "      <td>0.040378</td>\n",
       "      <td>...</td>\n",
       "      <td>-0.153485</td>\n",
       "      <td>0.421703</td>\n",
       "      <td>0.113442</td>\n",
       "      <td>-1.004095</td>\n",
       "      <td>-1.176695</td>\n",
       "      <td>0.361924</td>\n",
       "      <td>-0.370469</td>\n",
       "      <td>-0.144792</td>\n",
       "      <td>45.90</td>\n",
       "      <td>False</td>\n",
       "    </tr>\n",
       "    <tr>\n",
       "      <th>2</th>\n",
       "      <td>149565.0</td>\n",
       "      <td>0.072509</td>\n",
       "      <td>0.820566</td>\n",
       "      <td>-0.561351</td>\n",
       "      <td>-0.709897</td>\n",
       "      <td>1.080399</td>\n",
       "      <td>-0.359429</td>\n",
       "      <td>0.787858</td>\n",
       "      <td>0.117276</td>\n",
       "      <td>-0.131275</td>\n",
       "      <td>...</td>\n",
       "      <td>-0.314638</td>\n",
       "      <td>-0.872959</td>\n",
       "      <td>0.083391</td>\n",
       "      <td>0.148178</td>\n",
       "      <td>-0.431459</td>\n",
       "      <td>0.119690</td>\n",
       "      <td>0.206395</td>\n",
       "      <td>0.070288</td>\n",
       "      <td>11.99</td>\n",
       "      <td>False</td>\n",
       "    </tr>\n",
       "    <tr>\n",
       "      <th>3</th>\n",
       "      <td>93670.0</td>\n",
       "      <td>-0.535045</td>\n",
       "      <td>1.014587</td>\n",
       "      <td>1.750679</td>\n",
       "      <td>2.769390</td>\n",
       "      <td>0.500089</td>\n",
       "      <td>1.002270</td>\n",
       "      <td>0.847902</td>\n",
       "      <td>-0.081323</td>\n",
       "      <td>0.371579</td>\n",
       "      <td>...</td>\n",
       "      <td>0.063525</td>\n",
       "      <td>0.443431</td>\n",
       "      <td>-0.072754</td>\n",
       "      <td>0.448192</td>\n",
       "      <td>-0.655203</td>\n",
       "      <td>-0.181038</td>\n",
       "      <td>-0.093013</td>\n",
       "      <td>-0.064931</td>\n",
       "      <td>117.44</td>\n",
       "      <td>False</td>\n",
       "    </tr>\n",
       "    <tr>\n",
       "      <th>4</th>\n",
       "      <td>82655.0</td>\n",
       "      <td>-4.026938</td>\n",
       "      <td>1.897371</td>\n",
       "      <td>-0.429786</td>\n",
       "      <td>-0.029571</td>\n",
       "      <td>-0.855751</td>\n",
       "      <td>-0.480406</td>\n",
       "      <td>-0.435632</td>\n",
       "      <td>1.313760</td>\n",
       "      <td>0.536044</td>\n",
       "      <td>...</td>\n",
       "      <td>-0.480691</td>\n",
       "      <td>-0.230369</td>\n",
       "      <td>0.250717</td>\n",
       "      <td>0.066399</td>\n",
       "      <td>0.470787</td>\n",
       "      <td>0.245335</td>\n",
       "      <td>0.286904</td>\n",
       "      <td>-0.322672</td>\n",
       "      <td>25.76</td>\n",
       "      <td>False</td>\n",
       "    </tr>\n",
       "    <tr>\n",
       "      <th>...</th>\n",
       "      <td>...</td>\n",
       "      <td>...</td>\n",
       "      <td>...</td>\n",
       "      <td>...</td>\n",
       "      <td>...</td>\n",
       "      <td>...</td>\n",
       "      <td>...</td>\n",
       "      <td>...</td>\n",
       "      <td>...</td>\n",
       "      <td>...</td>\n",
       "      <td>...</td>\n",
       "      <td>...</td>\n",
       "      <td>...</td>\n",
       "      <td>...</td>\n",
       "      <td>...</td>\n",
       "      <td>...</td>\n",
       "      <td>...</td>\n",
       "      <td>...</td>\n",
       "      <td>...</td>\n",
       "      <td>...</td>\n",
       "      <td>...</td>\n",
       "    </tr>\n",
       "    <tr>\n",
       "      <th>227840</th>\n",
       "      <td>75618.0</td>\n",
       "      <td>1.173488</td>\n",
       "      <td>0.100792</td>\n",
       "      <td>0.490512</td>\n",
       "      <td>0.461596</td>\n",
       "      <td>-0.296377</td>\n",
       "      <td>-0.213165</td>\n",
       "      <td>-0.165254</td>\n",
       "      <td>0.119221</td>\n",
       "      <td>-0.114199</td>\n",
       "      <td>...</td>\n",
       "      <td>-0.186027</td>\n",
       "      <td>-0.574283</td>\n",
       "      <td>0.161405</td>\n",
       "      <td>-0.006140</td>\n",
       "      <td>0.091444</td>\n",
       "      <td>0.109235</td>\n",
       "      <td>-0.020922</td>\n",
       "      <td>0.003967</td>\n",
       "      <td>1.98</td>\n",
       "      <td>False</td>\n",
       "    </tr>\n",
       "    <tr>\n",
       "      <th>227841</th>\n",
       "      <td>159000.0</td>\n",
       "      <td>-0.775981</td>\n",
       "      <td>0.144023</td>\n",
       "      <td>-1.142399</td>\n",
       "      <td>-1.241113</td>\n",
       "      <td>1.940358</td>\n",
       "      <td>3.912076</td>\n",
       "      <td>-0.466107</td>\n",
       "      <td>1.360620</td>\n",
       "      <td>0.400697</td>\n",
       "      <td>...</td>\n",
       "      <td>0.037078</td>\n",
       "      <td>-0.019575</td>\n",
       "      <td>0.241830</td>\n",
       "      <td>0.682820</td>\n",
       "      <td>-1.635109</td>\n",
       "      <td>-0.770941</td>\n",
       "      <td>0.066006</td>\n",
       "      <td>0.137056</td>\n",
       "      <td>89.23</td>\n",
       "      <td>False</td>\n",
       "    </tr>\n",
       "    <tr>\n",
       "      <th>227842</th>\n",
       "      <td>79795.0</td>\n",
       "      <td>-0.146609</td>\n",
       "      <td>0.992946</td>\n",
       "      <td>1.524591</td>\n",
       "      <td>0.485774</td>\n",
       "      <td>0.349308</td>\n",
       "      <td>-0.815198</td>\n",
       "      <td>1.076640</td>\n",
       "      <td>-0.395316</td>\n",
       "      <td>-0.491303</td>\n",
       "      <td>...</td>\n",
       "      <td>0.052649</td>\n",
       "      <td>0.354089</td>\n",
       "      <td>-0.291198</td>\n",
       "      <td>0.402849</td>\n",
       "      <td>0.237383</td>\n",
       "      <td>-0.398467</td>\n",
       "      <td>-0.121139</td>\n",
       "      <td>-0.196195</td>\n",
       "      <td>3.94</td>\n",
       "      <td>False</td>\n",
       "    </tr>\n",
       "    <tr>\n",
       "      <th>227843</th>\n",
       "      <td>87931.0</td>\n",
       "      <td>-2.948638</td>\n",
       "      <td>2.354849</td>\n",
       "      <td>-2.521201</td>\n",
       "      <td>-3.798905</td>\n",
       "      <td>1.866302</td>\n",
       "      <td>2.727695</td>\n",
       "      <td>-0.471769</td>\n",
       "      <td>2.217537</td>\n",
       "      <td>0.580199</td>\n",
       "      <td>...</td>\n",
       "      <td>-0.332759</td>\n",
       "      <td>-1.047514</td>\n",
       "      <td>0.143326</td>\n",
       "      <td>0.678869</td>\n",
       "      <td>0.319710</td>\n",
       "      <td>0.426309</td>\n",
       "      <td>0.496912</td>\n",
       "      <td>0.335822</td>\n",
       "      <td>1.00</td>\n",
       "      <td>False</td>\n",
       "    </tr>\n",
       "    <tr>\n",
       "      <th>227844</th>\n",
       "      <td>76381.0</td>\n",
       "      <td>1.233174</td>\n",
       "      <td>-0.784851</td>\n",
       "      <td>0.386784</td>\n",
       "      <td>-0.698559</td>\n",
       "      <td>-1.034018</td>\n",
       "      <td>-0.637028</td>\n",
       "      <td>-0.502369</td>\n",
       "      <td>-0.188057</td>\n",
       "      <td>-0.749637</td>\n",
       "      <td>...</td>\n",
       "      <td>0.027634</td>\n",
       "      <td>-0.234522</td>\n",
       "      <td>-0.059544</td>\n",
       "      <td>-0.109073</td>\n",
       "      <td>0.290326</td>\n",
       "      <td>-0.393074</td>\n",
       "      <td>0.001217</td>\n",
       "      <td>0.038588</td>\n",
       "      <td>113.00</td>\n",
       "      <td>False</td>\n",
       "    </tr>\n",
       "  </tbody>\n",
       "</table>\n",
       "<p>227845 rows × 31 columns</p>\n",
       "</div>"
      ],
      "text/plain": [
       "            Time        V1        V2        V3        V4        V5        V6  \\\n",
       "0       143352.0  1.955041 -0.380783 -0.315013  0.330155 -0.509374 -0.086197   \n",
       "1       117173.0 -0.400975 -0.626943  1.555339 -2.017772 -0.107769  0.168310   \n",
       "2       149565.0  0.072509  0.820566 -0.561351 -0.709897  1.080399 -0.359429   \n",
       "3        93670.0 -0.535045  1.014587  1.750679  2.769390  0.500089  1.002270   \n",
       "4        82655.0 -4.026938  1.897371 -0.429786 -0.029571 -0.855751 -0.480406   \n",
       "...          ...       ...       ...       ...       ...       ...       ...   \n",
       "227840   75618.0  1.173488  0.100792  0.490512  0.461596 -0.296377 -0.213165   \n",
       "227841  159000.0 -0.775981  0.144023 -1.142399 -1.241113  1.940358  3.912076   \n",
       "227842   79795.0 -0.146609  0.992946  1.524591  0.485774  0.349308 -0.815198   \n",
       "227843   87931.0 -2.948638  2.354849 -2.521201 -3.798905  1.866302  2.727695   \n",
       "227844   76381.0  1.233174 -0.784851  0.386784 -0.698559 -1.034018 -0.637028   \n",
       "\n",
       "              V7        V8        V9  ...       V21       V22       V23  \\\n",
       "0      -0.627978  0.035994  1.054560  ...  0.238197  0.968305  0.053208   \n",
       "1       0.017959 -0.401619  0.040378  ... -0.153485  0.421703  0.113442   \n",
       "2       0.787858  0.117276 -0.131275  ... -0.314638 -0.872959  0.083391   \n",
       "3       0.847902 -0.081323  0.371579  ...  0.063525  0.443431 -0.072754   \n",
       "4      -0.435632  1.313760  0.536044  ... -0.480691 -0.230369  0.250717   \n",
       "...          ...       ...       ...  ...       ...       ...       ...   \n",
       "227840 -0.165254  0.119221 -0.114199  ... -0.186027 -0.574283  0.161405   \n",
       "227841 -0.466107  1.360620  0.400697  ...  0.037078 -0.019575  0.241830   \n",
       "227842  1.076640 -0.395316 -0.491303  ...  0.052649  0.354089 -0.291198   \n",
       "227843 -0.471769  2.217537  0.580199  ... -0.332759 -1.047514  0.143326   \n",
       "227844 -0.502369 -0.188057 -0.749637  ...  0.027634 -0.234522 -0.059544   \n",
       "\n",
       "             V24       V25       V26       V27       V28  Amount  Class  \n",
       "0      -0.278602 -0.044999 -0.216780  0.045168 -0.047145    9.99  False  \n",
       "1      -1.004095 -1.176695  0.361924 -0.370469 -0.144792   45.90  False  \n",
       "2       0.148178 -0.431459  0.119690  0.206395  0.070288   11.99  False  \n",
       "3       0.448192 -0.655203 -0.181038 -0.093013 -0.064931  117.44  False  \n",
       "4       0.066399  0.470787  0.245335  0.286904 -0.322672   25.76  False  \n",
       "...          ...       ...       ...       ...       ...     ...    ...  \n",
       "227840 -0.006140  0.091444  0.109235 -0.020922  0.003967    1.98  False  \n",
       "227841  0.682820 -1.635109 -0.770941  0.066006  0.137056   89.23  False  \n",
       "227842  0.402849  0.237383 -0.398467 -0.121139 -0.196195    3.94  False  \n",
       "227843  0.678869  0.319710  0.426309  0.496912  0.335822    1.00  False  \n",
       "227844 -0.109073  0.290326 -0.393074  0.001217  0.038588  113.00  False  \n",
       "\n",
       "[227845 rows x 31 columns]"
      ]
     },
     "execution_count": 17,
     "metadata": {},
     "output_type": "execute_result"
    }
   ],
   "source": [
    "dataset = Dataset.get_by_name(ws, name='df_train_tabular')\n",
    "dataset.to_pandas_dataframe()"
   ]
  },
  {
   "cell_type": "markdown",
   "metadata": {},
   "source": [
    "## AutoML Configuration\n",
    "\n",
    "Exit criteria is to run autoML for 30 mins to save time and resources. Since the data is imbalanced I am picking AUC weighted metric. When computing the weighted area under the ROC curve, weights vary with the values of the true positive rate (TPrate) among regions in a bid to focus on the accuracy of minority class that is more important in common."
   ]
  },
  {
   "cell_type": "code",
   "execution_count": 18,
   "metadata": {
    "gather": {
     "logged": 1598429217746
    },
    "jupyter": {
     "outputs_hidden": false,
     "source_hidden": false
    },
    "nteract": {
     "transient": {
      "deleting": false
     }
    }
   },
   "outputs": [],
   "source": [
    "from azureml.train.automl import AutoMLConfig\n",
    "\n",
    "automl_settings = {\n",
    "    \"experiment_timeout_minutes\": 30,\n",
    "    \"primary_metric\": 'AUC_weighted'\n",
    "}\n",
    "\n",
    "\n",
    "automl_config = AutoMLConfig(\n",
    "    task='classification',\n",
    "    training_data= dataset,\n",
    "    label_column_name='Class',\n",
    "    n_cross_validations=5,\n",
    "    compute_target=cpu_cluster,\n",
    "    **automl_settings\n",
    ")"
   ]
  },
  {
   "cell_type": "markdown",
   "metadata": {},
   "source": [
    "## Run Details"
   ]
  },
  {
   "cell_type": "code",
   "execution_count": 19,
   "metadata": {},
   "outputs": [
    {
     "name": "stdout",
     "output_type": "stream",
     "text": [
      "Submitting remote run.\n"
     ]
    },
    {
     "data": {
      "text/html": [
       "<table style=\"width:100%\"><tr><th>Experiment</th><th>Id</th><th>Type</th><th>Status</th><th>Details Page</th><th>Docs Page</th></tr><tr><td>creditcardfraud</td><td>AutoML_2bd69a7a-1b23-48eb-a4f3-d6068a5628c5</td><td>automl</td><td>NotStarted</td><td><a href=\"https://ml.azure.com/runs/AutoML_2bd69a7a-1b23-48eb-a4f3-d6068a5628c5?wsid=/subscriptions/611bccaf-ced7-4b1d-9395-57559c451c39/resourcegroups/raineldias88-rg/workspaces/workspace-rainel&amp;tid=f2c80df2-0dbc-4eb5-9af1-fd0a90497ca6\" target=\"_blank\" rel=\"noopener\">Link to Azure Machine Learning studio</a></td><td><a href=\"https://docs.microsoft.com/en-us/python/api/overview/azure/ml/intro?view=azure-ml-py\" target=\"_blank\" rel=\"noopener\">Link to Documentation</a></td></tr></table>"
      ],
      "text/plain": [
       "<IPython.core.display.HTML object>"
      ]
     },
     "metadata": {},
     "output_type": "display_data"
    },
    {
     "data": {
      "application/vnd.jupyter.widget-view+json": {
       "model_id": "867f6bd448c14ac0978b790c903de105",
       "version_major": 2,
       "version_minor": 0
      },
      "text/plain": [
       "_AutoMLWidget(widget_settings={'childWidgetDisplay': 'popup', 'send_telemetry': False, 'log_level': 'INFO', 's…"
      ]
     },
     "metadata": {},
     "output_type": "display_data"
    },
    {
     "data": {
      "application/aml.mini.widget.v1": "{\"status\": \"Completed\", \"workbench_run_details_uri\": \"https://ml.azure.com/runs/AutoML_2bd69a7a-1b23-48eb-a4f3-d6068a5628c5?wsid=/subscriptions/611bccaf-ced7-4b1d-9395-57559c451c39/resourcegroups/raineldias88-rg/workspaces/workspace-rainel&tid=f2c80df2-0dbc-4eb5-9af1-fd0a90497ca6\", \"run_id\": \"AutoML_2bd69a7a-1b23-48eb-a4f3-d6068a5628c5\", \"run_properties\": {\"run_id\": \"AutoML_2bd69a7a-1b23-48eb-a4f3-d6068a5628c5\", \"created_utc\": \"2022-11-19T10:50:41.870479Z\", \"properties\": {\"num_iterations\": \"1000\", \"training_type\": \"TrainFull\", \"acquisition_function\": \"EI\", \"primary_metric\": \"AUC_weighted\", \"train_split\": \"0\", \"acquisition_parameter\": \"0\", \"num_cross_validation\": \"5\", \"target\": \"compute-cluster\", \"AMLSettingsJsonString\": \"{\\\"path\\\":null,\\\"name\\\":\\\"creditcardfraud\\\",\\\"subscription_id\\\":\\\"611bccaf-ced7-4b1d-9395-57559c451c39\\\",\\\"resource_group\\\":\\\"raineldias88-rg\\\",\\\"workspace_name\\\":\\\"workspace-rainel\\\",\\\"region\\\":\\\"brazilsouth\\\",\\\"compute_target\\\":\\\"compute-cluster\\\",\\\"spark_service\\\":null,\\\"azure_service\\\":\\\"remote\\\",\\\"many_models\\\":false,\\\"pipeline_fetch_max_batch_size\\\":1,\\\"enable_batch_run\\\":true,\\\"enable_parallel_run\\\":false,\\\"num_procs\\\":null,\\\"enable_run_restructure\\\":false,\\\"start_auxiliary_runs_before_parent_complete\\\":false,\\\"enable_code_generation\\\":true,\\\"iterations\\\":1000,\\\"primary_metric\\\":\\\"AUC_weighted\\\",\\\"task_type\\\":\\\"classification\\\",\\\"positive_label\\\":null,\\\"data_script\\\":null,\\\"test_size\\\":0.0,\\\"test_include_predictions_only\\\":false,\\\"validation_size\\\":0.0,\\\"n_cross_validations\\\":5,\\\"y_min\\\":null,\\\"y_max\\\":null,\\\"num_classes\\\":null,\\\"featurization\\\":\\\"auto\\\",\\\"_ignore_package_version_incompatibilities\\\":false,\\\"is_timeseries\\\":false,\\\"max_cores_per_iteration\\\":1,\\\"max_concurrent_iterations\\\":1,\\\"iteration_timeout_minutes\\\":null,\\\"mem_in_mb\\\":null,\\\"enforce_time_on_windows\\\":false,\\\"experiment_timeout_minutes\\\":30,\\\"experiment_exit_score\\\":null,\\\"partition_column_names\\\":null,\\\"whitelist_models\\\":null,\\\"blacklist_algos\\\":[\\\"TensorFlowLinearClassifier\\\",\\\"TensorFlowDNN\\\"],\\\"supported_models\\\":[\\\"RandomForest\\\",\\\"SGD\\\",\\\"KNN\\\",\\\"XGBoostClassifier\\\",\\\"LightGBM\\\",\\\"TensorFlowDNN\\\",\\\"DecisionTree\\\",\\\"SVM\\\",\\\"TabnetClassifier\\\",\\\"MultinomialNaiveBayes\\\",\\\"GradientBoosting\\\",\\\"BernoulliNaiveBayes\\\",\\\"AveragedPerceptronClassifier\\\",\\\"LogisticRegression\\\",\\\"ExtremeRandomTrees\\\",\\\"LinearSVM\\\",\\\"TensorFlowLinearClassifier\\\"],\\\"private_models\\\":[],\\\"auto_blacklist\\\":true,\\\"blacklist_samples_reached\\\":false,\\\"exclude_nan_labels\\\":true,\\\"verbosity\\\":20,\\\"_debug_log\\\":\\\"azureml_automl.log\\\",\\\"show_warnings\\\":false,\\\"model_explainability\\\":true,\\\"service_url\\\":null,\\\"sdk_url\\\":null,\\\"sdk_packages\\\":null,\\\"enable_onnx_compatible_models\\\":false,\\\"enable_split_onnx_featurizer_estimator_models\\\":false,\\\"vm_type\\\":\\\"STANDARD_D2_V2\\\",\\\"telemetry_verbosity\\\":20,\\\"send_telemetry\\\":true,\\\"enable_dnn\\\":false,\\\"scenario\\\":\\\"AutoML\\\",\\\"environment_label\\\":null,\\\"save_mlflow\\\":false,\\\"enable_categorical_indicators\\\":false,\\\"force_text_dnn\\\":false,\\\"enable_feature_sweeping\\\":true,\\\"enable_early_stopping\\\":true,\\\"early_stopping_n_iters\\\":10,\\\"arguments\\\":null,\\\"dataset_id\\\":\\\"068abf42-312c-4a90-a7e9-84ee5e60a968\\\",\\\"hyperdrive_config\\\":null,\\\"validation_dataset_id\\\":null,\\\"run_source\\\":null,\\\"metrics\\\":null,\\\"enable_metric_confidence\\\":false,\\\"enable_ensembling\\\":true,\\\"enable_stack_ensembling\\\":true,\\\"ensemble_iterations\\\":15,\\\"enable_tf\\\":false,\\\"enable_subsampling\\\":null,\\\"subsample_seed\\\":null,\\\"enable_nimbusml\\\":false,\\\"enable_streaming\\\":false,\\\"force_streaming\\\":false,\\\"track_child_runs\\\":true,\\\"n_best_runs\\\":1,\\\"allowed_private_models\\\":[],\\\"label_column_name\\\":\\\"Class\\\",\\\"weight_column_name\\\":null,\\\"cv_split_column_names\\\":null,\\\"enable_local_managed\\\":false,\\\"_local_managed_run_id\\\":null,\\\"cost_mode\\\":1,\\\"lag_length\\\":0,\\\"metric_operation\\\":\\\"maximize\\\",\\\"preprocess\\\":true}\", \"DataPrepJsonString\": \"{\\\\\\\"training_data\\\\\\\": {\\\\\\\"datasetId\\\\\\\": \\\\\\\"068abf42-312c-4a90-a7e9-84ee5e60a968\\\\\\\"}, \\\\\\\"datasets\\\\\\\": 0}\", \"EnableSubsampling\": null, \"runTemplate\": \"AutoML\", \"azureml.runsource\": \"automl\", \"display_task_type\": \"classification\", \"dependencies_versions\": \"{\\\"azureml-widgets\\\": \\\"1.47.0\\\", \\\"azureml-training-tabular\\\": \\\"1.47.0\\\", \\\"azureml-train\\\": \\\"1.47.0\\\", \\\"azureml-train-restclients-hyperdrive\\\": \\\"1.47.0\\\", \\\"azureml-train-core\\\": \\\"1.47.0\\\", \\\"azureml-train-automl\\\": \\\"1.47.0\\\", \\\"azureml-train-automl-runtime\\\": \\\"1.47.0\\\", \\\"azureml-train-automl-client\\\": \\\"1.47.0\\\", \\\"azureml-tensorboard\\\": \\\"1.47.0\\\", \\\"azureml-telemetry\\\": \\\"1.47.0\\\", \\\"azureml-sdk\\\": \\\"1.47.0\\\", \\\"azureml-samples\\\": \\\"0+unknown\\\", \\\"azureml-responsibleai\\\": \\\"1.47.0\\\", \\\"azureml-pipeline\\\": \\\"1.47.0\\\", \\\"azureml-pipeline-steps\\\": \\\"1.47.0\\\", \\\"azureml-pipeline-core\\\": \\\"1.47.0\\\", \\\"azureml-opendatasets\\\": \\\"1.47.0\\\", \\\"azureml-mlflow\\\": \\\"1.47.0\\\", \\\"azureml-interpret\\\": \\\"1.47.0\\\", \\\"azureml-inference-server-http\\\": \\\"0.7.6\\\", \\\"azureml-explain-model\\\": \\\"1.47.0\\\", \\\"azureml-defaults\\\": \\\"1.47.0\\\", \\\"azureml-dataset-runtime\\\": \\\"1.47.0\\\", \\\"azureml-dataprep\\\": \\\"4.5.7\\\", \\\"azureml-dataprep-rslex\\\": \\\"2.11.4\\\", \\\"azureml-dataprep-native\\\": \\\"38.0.0\\\", \\\"azureml-datadrift\\\": \\\"1.47.0\\\", \\\"azureml-core\\\": \\\"1.47.0\\\", \\\"azureml-contrib-services\\\": \\\"1.47.0\\\", \\\"azureml-contrib-server\\\": \\\"1.47.0\\\", \\\"azureml-contrib-reinforcementlearning\\\": \\\"1.47.0\\\", \\\"azureml-contrib-pipeline-steps\\\": \\\"1.47.0\\\", \\\"azureml-contrib-notebook\\\": \\\"1.47.0\\\", \\\"azureml-contrib-fairness\\\": \\\"1.47.0\\\", \\\"azureml-contrib-dataset\\\": \\\"1.47.0\\\", \\\"azureml-contrib-automl-pipeline-steps\\\": \\\"1.47.0\\\", \\\"azureml-cli-common\\\": \\\"1.47.0\\\", \\\"azureml-automl-runtime\\\": \\\"1.47.0\\\", \\\"azureml-automl-dnn-nlp\\\": \\\"1.47.0\\\", \\\"azureml-automl-core\\\": \\\"1.47.0\\\", \\\"azureml-accel-models\\\": \\\"1.47.0\\\"}\", \"_aml_system_scenario_identification\": \"Remote.Parent\", \"ClientType\": \"SDK\", \"environment_cpu_name\": \"AzureML-AutoML\", \"environment_cpu_label\": \"prod\", \"environment_gpu_name\": \"AzureML-AutoML-GPU\", \"environment_gpu_label\": \"prod\", \"root_attribution\": \"automl\", \"attribution\": \"AutoML\", \"Orchestrator\": \"AutoML\", \"CancelUri\": \"https://brazilsouth.api.azureml.ms/jasmine/v1.0/subscriptions/611bccaf-ced7-4b1d-9395-57559c451c39/resourceGroups/raineldias88-rg/providers/Microsoft.MachineLearningServices/workspaces/workspace-rainel/experimentids/8f7f5231-e93a-48b1-a94d-4c6baddbd348/cancel/AutoML_2bd69a7a-1b23-48eb-a4f3-d6068a5628c5\", \"ClientSdkVersion\": \"1.46.1\", \"snapshotId\": \"00000000-0000-0000-0000-000000000000\", \"SetupRunId\": \"AutoML_2bd69a7a-1b23-48eb-a4f3-d6068a5628c5_setup\", \"SetupRunContainerId\": \"dcid.AutoML_2bd69a7a-1b23-48eb-a4f3-d6068a5628c5_setup\", \"FeaturizationRunJsonPath\": \"featurizer_container.json\", \"FeaturizationRunId\": \"AutoML_2bd69a7a-1b23-48eb-a4f3-d6068a5628c5_featurize\", \"ProblemInfoJsonString\": \"{\\\"dataset_num_categorical\\\": 0, \\\"is_sparse\\\": false, \\\"subsampling\\\": false, \\\"has_extra_col\\\": true, \\\"dataset_classes\\\": 2, \\\"dataset_features\\\": 30, \\\"dataset_samples\\\": 227845, \\\"single_frequency_class_detected\\\": false}\", \"ModelExplainRunId\": \"AutoML_2bd69a7a-1b23-48eb-a4f3-d6068a5628c5_ModelExplain\"}, \"tags\": {\"model_explain_run\": \"best_run\", \"_aml_system_automl_run_workspace_id\": \"5394d319-175a-478b-a9a0-ee0510076968\", \"_aml_system_azureml.automlComponent\": \"AutoML\", \"pipeline_id\": \"\", \"score\": \"\", \"predicted_cost\": \"\", \"fit_time\": \"\", \"training_percent\": \"\", \"iteration\": \"\", \"run_preprocessor\": \"\", \"run_algorithm\": \"\", \"_aml_system_azureml.automl_early_exit_message\": \"Experiment timeout reached, hence experiment stopped. Current experiment timeout: 0 hour(s) 30 minute(s)\", \"automl_best_child_run_id\": \"AutoML_2bd69a7a-1b23-48eb-a4f3-d6068a5628c5_20\", \"model_explain_best_run_child_id\": \"AutoML_2bd69a7a-1b23-48eb-a4f3-d6068a5628c5_20\"}, \"end_time_utc\": \"2022-11-19T11:40:01.708902Z\", \"status\": \"Completed\", \"log_files\": {}, \"log_groups\": [], \"run_duration\": \"0:49:19\", \"run_number\": \"1668855041\", \"run_queued_details\": {\"status\": \"Completed\", \"details\": null}}, \"child_runs\": [{\"run_id\": \"AutoML_2bd69a7a-1b23-48eb-a4f3-d6068a5628c5_setup\", \"run_number\": 1668855054, \"metric\": null, \"status\": \"Completed\", \"run_type\": \"azureml.scriptrun\", \"training_percent\": null, \"start_time\": \"2022-11-19T10:53:50.316732Z\", \"end_time\": \"2022-11-19T10:59:39.599928Z\", \"created_time\": \"2022-11-19T10:50:54.477582Z\", \"created_time_dt\": \"2022-11-19T10:50:54.477582Z\", \"duration\": \"0:08:45\", \"iteration\": null, \"goal\": null, \"run_name\": \"Completed\", \"run_properties\": null}, {\"run_id\": \"AutoML_2bd69a7a-1b23-48eb-a4f3-d6068a5628c5_featurize\", \"run_number\": 1668855579, \"metric\": null, \"status\": \"Completed\", \"run_type\": \"automl.featurization\", \"training_percent\": null, \"start_time\": \"2022-11-19T10:59:40.120392Z\", \"end_time\": \"2022-11-19T11:01:02.907368Z\", \"created_time\": \"2022-11-19T10:59:39.86769Z\", \"created_time_dt\": \"2022-11-19T10:59:39.86769Z\", \"duration\": \"0:01:23\", \"iteration\": null, \"goal\": null, \"run_name\": \"Completed\", \"run_properties\": null}, {\"run_id\": \"AutoML_2bd69a7a-1b23-48eb-a4f3-d6068a5628c5_0\", \"run_number\": 1668855664, \"metric\": null, \"status\": \"Completed\", \"run_type\": null, \"training_percent\": \"100\", \"start_time\": \"2022-11-19T11:01:37.077551Z\", \"end_time\": \"2022-11-19T11:02:36.451936Z\", \"created_time\": \"2022-11-19T11:01:04.574539Z\", \"created_time_dt\": \"2022-11-19T11:01:04.574539Z\", \"duration\": \"0:01:31\", \"iteration\": \"0\", \"goal\": \"AUC_weighted_max\", \"run_name\": \"MaxAbsScaler, LightGBM\", \"run_properties\": \"copy=True\", \"primary_metric\": 0.97111024, \"best_metric\": 0.97111024}, {\"run_id\": \"AutoML_2bd69a7a-1b23-48eb-a4f3-d6068a5628c5_2\", \"run_number\": 1668855665, \"metric\": null, \"status\": \"Completed\", \"run_type\": null, \"training_percent\": \"100\", \"start_time\": \"2022-11-19T11:16:46.899923Z\", \"end_time\": \"2022-11-19T11:17:20.121308Z\", \"created_time\": \"2022-11-19T11:01:05.320321Z\", \"created_time_dt\": \"2022-11-19T11:01:05.320321Z\", \"duration\": \"0:16:14\", \"iteration\": \"2\", \"goal\": \"AUC_weighted_max\", \"run_name\": \"MaxAbsScaler, ExtremeRandomTrees\", \"run_properties\": \"copy=True\", \"primary_metric\": 0.97125902, \"best_metric\": 0.97125902}, {\"run_id\": \"AutoML_2bd69a7a-1b23-48eb-a4f3-d6068a5628c5_4\", \"run_number\": 1668855666, \"metric\": null, \"status\": \"Completed\", \"run_type\": null, \"training_percent\": \"100\", \"start_time\": \"2022-11-19T11:18:20.545774Z\", \"end_time\": \"2022-11-19T11:18:58.259179Z\", \"created_time\": \"2022-11-19T11:01:06.091484Z\", \"created_time_dt\": \"2022-11-19T11:01:06.091484Z\", \"duration\": \"0:17:52\", \"iteration\": \"4\", \"goal\": \"AUC_weighted_max\", \"run_name\": \"StandardScalerWrapper, LightGBM\", \"run_properties\": \"copy=True, with_mean=False, with_std=True\", \"primary_metric\": 0.97577152, \"best_metric\": 0.97577152}, {\"run_id\": \"AutoML_2bd69a7a-1b23-48eb-a4f3-d6068a5628c5_8\", \"run_number\": 1668855667, \"metric\": null, \"status\": \"Canceled\", \"run_type\": null, \"training_percent\": \"100\", \"start_time\": \"2022-11-19T11:01:07.704566Z\", \"end_time\": \"2022-11-19T11:35:45.766526Z\", \"created_time\": \"2022-11-19T11:01:07.704566Z\", \"created_time_dt\": \"2022-11-19T11:01:07.704566Z\", \"duration\": \"0:34:38\", \"iteration\": \"8\", \"goal\": null, \"run_name\": \"Canceled\", \"run_properties\": null}, {\"run_id\": \"AutoML_2bd69a7a-1b23-48eb-a4f3-d6068a5628c5_9\", \"run_number\": 1668855668, \"metric\": null, \"status\": \"Canceled\", \"run_type\": null, \"training_percent\": \"100\", \"start_time\": \"2022-11-19T11:01:08.105559Z\", \"end_time\": \"2022-11-19T11:35:46.008254Z\", \"created_time\": \"2022-11-19T11:01:08.105559Z\", \"created_time_dt\": \"2022-11-19T11:01:08.105559Z\", \"duration\": \"0:34:37\", \"iteration\": \"9\", \"goal\": null, \"run_name\": \"Canceled\", \"run_properties\": null}, {\"run_id\": \"AutoML_2bd69a7a-1b23-48eb-a4f3-d6068a5628c5_12\", \"run_number\": 1668855669, \"metric\": null, \"status\": \"Canceled\", \"run_type\": null, \"training_percent\": \"100\", \"start_time\": \"2022-11-19T11:01:09.272941Z\", \"end_time\": \"2022-11-19T11:35:45.955143Z\", \"created_time\": \"2022-11-19T11:01:09.272941Z\", \"created_time_dt\": \"2022-11-19T11:01:09.272941Z\", \"duration\": \"0:34:36\", \"iteration\": \"12\", \"goal\": null, \"run_name\": \"Canceled\", \"run_properties\": null}, {\"run_id\": \"AutoML_2bd69a7a-1b23-48eb-a4f3-d6068a5628c5_14\", \"run_number\": 1668855670, \"metric\": null, \"status\": \"Canceled\", \"run_type\": null, \"training_percent\": \"100\", \"start_time\": \"2022-11-19T11:01:10.035215Z\", \"end_time\": \"2022-11-19T11:35:45.723647Z\", \"created_time\": \"2022-11-19T11:01:10.035215Z\", \"created_time_dt\": \"2022-11-19T11:01:10.035215Z\", \"duration\": \"0:34:35\", \"iteration\": \"14\", \"goal\": null, \"run_name\": \"Canceled\", \"run_properties\": null}, {\"run_id\": \"AutoML_2bd69a7a-1b23-48eb-a4f3-d6068a5628c5_17\", \"run_number\": 1668855671, \"metric\": null, \"status\": \"Canceled\", \"run_type\": null, \"training_percent\": \"100\", \"start_time\": \"2022-11-19T11:01:11.400355Z\", \"end_time\": \"2022-11-19T11:35:45.860585Z\", \"created_time\": \"2022-11-19T11:01:11.400355Z\", \"created_time_dt\": \"2022-11-19T11:01:11.400355Z\", \"duration\": \"0:34:34\", \"iteration\": \"17\", \"goal\": null, \"run_name\": \"Canceled\", \"run_properties\": null}, {\"run_id\": \"AutoML_2bd69a7a-1b23-48eb-a4f3-d6068a5628c5_19\", \"run_number\": 1668855672, \"metric\": null, \"status\": \"Canceled\", \"run_type\": null, \"training_percent\": \"100\", \"start_time\": \"2022-11-19T11:01:12.182954Z\", \"end_time\": \"2022-11-19T11:35:45.817855Z\", \"created_time\": \"2022-11-19T11:01:12.182954Z\", \"created_time_dt\": \"2022-11-19T11:01:12.182954Z\", \"duration\": \"0:34:33\", \"iteration\": \"19\", \"goal\": null, \"run_name\": \"Canceled\", \"run_properties\": null}, {\"run_id\": \"AutoML_2bd69a7a-1b23-48eb-a4f3-d6068a5628c5_20\", \"run_number\": 1668857747, \"metric\": null, \"status\": \"Completed\", \"run_type\": \"azureml.scriptrun\", \"training_percent\": \"100\", \"start_time\": \"2022-11-19T11:35:54.988718Z\", \"end_time\": \"2022-11-19T11:37:10.159766Z\", \"created_time\": \"2022-11-19T11:35:47.549608Z\", \"created_time_dt\": \"2022-11-19T11:35:47.549608Z\", \"duration\": \"0:01:22\", \"iteration\": \"20\", \"goal\": \"AUC_weighted_max\", \"run_name\": \"VotingEnsemble\", \"run_properties\": \"classification_labels=numpy.array([0, 1]\", \"primary_metric\": 0.97919512, \"best_metric\": 0.97919512}, {\"run_id\": \"AutoML_2bd69a7a-1b23-48eb-a4f3-d6068a5628c5_21\", \"run_number\": 1668857830, \"metric\": null, \"status\": \"Completed\", \"run_type\": \"azureml.scriptrun\", \"training_percent\": \"100\", \"start_time\": \"2022-11-19T11:37:19.703761Z\", \"end_time\": \"2022-11-19T11:39:59.744824Z\", \"created_time\": \"2022-11-19T11:37:10.575688Z\", \"created_time_dt\": \"2022-11-19T11:37:10.575688Z\", \"duration\": \"0:02:49\", \"iteration\": \"21\", \"goal\": \"AUC_weighted_max\", \"run_name\": \"StackEnsemble\", \"run_properties\": \"base_learners=[('1', Pipeline(memory=None, steps=[('maxabsscaler', MaxAbsScaler(copy=True\", \"primary_metric\": 0.97789473, \"best_metric\": 0.97919512}], \"children_metrics\": {\"categories\": [0], \"series\": {\"precision_score_macro\": [{\"categories\": [\"0\", \"2\", \"4\", \"20\", \"21\"], \"mode\": \"markers\", \"name\": \"precision_score_macro\", \"stepped\": false, \"type\": \"scatter\", \"data\": [0.9236309252045887, 0.9264444669877323, 0.9377092585149736, 0.9297089261411362, 0.9347545240050629]}, {\"categories\": [\"0\", \"2\", \"4\", \"20\", \"21\"], \"mode\": \"lines\", \"name\": \"precision_score_macro_max\", \"stepped\": true, \"type\": \"scatter\", \"data\": [0.9236309252045887, 0.9264444669877323, 0.9377092585149736, 0.9377092585149736, 0.9377092585149736]}], \"f1_score_micro\": [{\"categories\": [\"0\", \"2\", \"4\", \"20\", \"21\"], \"mode\": \"markers\", \"name\": \"f1_score_micro\", \"stepped\": false, \"type\": \"scatter\", \"data\": [0.9099972806948667, 0.9233511468524332, 0.9345209732552616, 0.9185355656926012, 0.9257573053278831]}, {\"categories\": [\"0\", \"2\", \"4\", \"20\", \"21\"], \"mode\": \"lines\", \"name\": \"f1_score_micro_max\", \"stepped\": true, \"type\": \"scatter\", \"data\": [0.9099972806948667, 0.9233511468524332, 0.9345209732552616, 0.9345209732552616, 0.9345209732552616]}], \"average_precision_score_weighted\": [{\"categories\": [\"0\", \"2\", \"4\", \"20\", \"21\"], \"mode\": \"markers\", \"name\": \"average_precision_score_weighted\", \"stepped\": false, \"type\": \"scatter\", \"data\": [0.9659712501795198, 0.970774193022906, 0.9752980592739089, 0.9788392486384445, 0.9772342078030732]}, {\"categories\": [\"0\", \"2\", \"4\", \"20\", \"21\"], \"mode\": \"lines\", \"name\": \"average_precision_score_weighted_max\", \"stepped\": true, \"type\": \"scatter\", \"data\": [0.9659712501795198, 0.970774193022906, 0.9752980592739089, 0.9788392486384445, 0.9788392486384445]}], \"recall_score_weighted\": [{\"categories\": [\"0\", \"2\", \"4\", \"20\", \"21\"], \"mode\": \"markers\", \"name\": \"recall_score_weighted\", \"stepped\": false, \"type\": \"scatter\", \"data\": [0.9099972806948882, 0.9233511468524419, 0.9345209732552713, 0.9185355656926187, 0.9257573053278982]}, {\"categories\": [\"0\", \"2\", \"4\", \"20\", \"21\"], \"mode\": \"lines\", \"name\": \"recall_score_weighted_max\", \"stepped\": true, \"type\": \"scatter\", \"data\": [0.9099972806948882, 0.9233511468524419, 0.9345209732552713, 0.9345209732552713, 0.9345209732552713]}], \"AUC_weighted\": [{\"categories\": [\"0\", \"2\", \"4\", \"20\", \"21\"], \"mode\": \"markers\", \"name\": \"AUC_weighted\", \"stepped\": false, \"type\": \"scatter\", \"data\": [0.971110241694159, 0.9712590199201042, 0.975771522114511, 0.9791951184894012, 0.9778947326532826]}, {\"categories\": [\"0\", \"2\", \"4\", \"20\", \"21\"], \"mode\": \"lines\", \"name\": \"AUC_weighted_max\", \"stepped\": true, \"type\": \"scatter\", \"data\": [0.971110241694159, 0.9712590199201042, 0.975771522114511, 0.9791951184894012, 0.9791951184894012]}], \"precision_score_micro\": [{\"categories\": [\"0\", \"2\", \"4\", \"20\", \"21\"], \"mode\": \"markers\", \"name\": \"precision_score_micro\", \"stepped\": false, \"type\": \"scatter\", \"data\": [0.9099972806948451, 0.9233511468524245, 0.9345209732552519, 0.918535565692584, 0.9257573053278678]}, {\"categories\": [\"0\", \"2\", \"4\", \"20\", \"21\"], \"mode\": \"lines\", \"name\": \"precision_score_micro_max\", \"stepped\": true, \"type\": \"scatter\", \"data\": [0.9099972806948451, 0.9233511468524245, 0.9345209732552519, 0.9345209732552519, 0.9345209732552519]}], \"f1_score_macro\": [{\"categories\": [\"0\", \"2\", \"4\", \"20\", \"21\"], \"mode\": \"markers\", \"name\": \"f1_score_macro\", \"stepped\": false, \"type\": \"scatter\", \"data\": [0.9090182403044185, 0.9230317774835457, 0.9342502453832434, 0.9177965709287168, 0.9252161372383061]}, {\"categories\": [\"0\", \"2\", \"4\", \"20\", \"21\"], \"mode\": \"lines\", \"name\": \"f1_score_macro_max\", \"stepped\": true, \"type\": \"scatter\", \"data\": [0.9090182403044185, 0.9230317774835457, 0.9342502453832434, 0.9342502453832434, 0.9342502453832434]}], \"f1_score_weighted\": [{\"categories\": [\"0\", \"2\", \"4\", \"20\", \"21\"], \"mode\": \"markers\", \"name\": \"f1_score_weighted\", \"stepped\": false, \"type\": \"scatter\", \"data\": [0.9092633448132256, 0.9232260909626984, 0.9343997586508325, 0.9179877335564214, 0.9253814508295195]}, {\"categories\": [\"0\", \"2\", \"4\", \"20\", \"21\"], \"mode\": \"lines\", \"name\": \"f1_score_weighted_max\", \"stepped\": true, \"type\": \"scatter\", \"data\": [0.9092633448132256, 0.9232260909626984, 0.9343997586508325, 0.9343997586508325, 0.9343997586508325]}], \"AUC_micro\": [{\"categories\": [\"0\", \"2\", \"4\", \"20\", \"21\"], \"mode\": \"markers\", \"name\": \"AUC_micro\", \"stepped\": false, \"type\": \"scatter\", \"data\": [0.9535246517308863, 0.9735361071533999, 0.9802069230932325, 0.975934767182389, 0.9811095252194683]}, {\"categories\": [\"0\", \"2\", \"4\", \"20\", \"21\"], \"mode\": \"lines\", \"name\": \"AUC_micro_max\", \"stepped\": true, \"type\": \"scatter\", \"data\": [0.9535246517308863, 0.9735361071533999, 0.9802069230932325, 0.9802069230932325, 0.9811095252194683]}], \"recall_score_micro\": [{\"categories\": [\"0\", \"2\", \"4\", \"20\", \"21\"], \"mode\": \"markers\", \"name\": \"recall_score_micro\", \"stepped\": false, \"type\": \"scatter\", \"data\": [0.9099972806948882, 0.9233511468524419, 0.9345209732552713, 0.9185355656926187, 0.9257573053278982]}, {\"categories\": [\"0\", \"2\", \"4\", \"20\", \"21\"], \"mode\": \"lines\", \"name\": \"recall_score_micro_max\", \"stepped\": true, \"type\": \"scatter\", \"data\": [0.9099972806948882, 0.9233511468524419, 0.9345209732552713, 0.9345209732552713, 0.9345209732552713]}], \"average_precision_score_macro\": [{\"categories\": [\"0\", \"2\", \"4\", \"20\", \"21\"], \"mode\": \"markers\", \"name\": \"average_precision_score_macro\", \"stepped\": false, \"type\": \"scatter\", \"data\": [0.9660007486157192, 0.9705829190994304, 0.975284366799524, 0.9787886453166299, 0.9772151340499955]}, {\"categories\": [\"0\", \"2\", \"4\", \"20\", \"21\"], \"mode\": \"lines\", \"name\": \"average_precision_score_macro_max\", \"stepped\": true, \"type\": \"scatter\", \"data\": [0.9660007486157192, 0.9705829190994304, 0.975284366799524, 0.9787886453166299, 0.9787886453166299]}], \"matthews_correlation\": [{\"categories\": [\"0\", \"2\", \"4\", \"20\", \"21\"], \"mode\": \"markers\", \"name\": \"matthews_correlation\", \"stepped\": false, \"type\": \"scatter\", \"data\": [0.8331829239834738, 0.8499633687055649, 0.8723363933264686, 0.8480158235592163, 0.8604754201502096]}, {\"categories\": [\"0\", \"2\", \"4\", \"20\", \"21\"], \"mode\": \"lines\", \"name\": \"matthews_correlation_max\", \"stepped\": true, \"type\": \"scatter\", \"data\": [0.8331829239834738, 0.8499633687055649, 0.8723363933264686, 0.8723363933264686, 0.8723363933264686]}], \"precision_score_weighted\": [{\"categories\": [\"0\", \"2\", \"4\", \"20\", \"21\"], \"mode\": \"markers\", \"name\": \"precision_score_weighted\", \"stepped\": false, \"type\": \"scatter\", \"data\": [0.9237504038996803, 0.9269984174810741, 0.9381155169405131, 0.9299179066400713, 0.9350775100234301]}, {\"categories\": [\"0\", \"2\", \"4\", \"20\", \"21\"], \"mode\": \"lines\", \"name\": \"precision_score_weighted_max\", \"stepped\": true, \"type\": \"scatter\", \"data\": [0.9237504038996803, 0.9269984174810741, 0.9381155169405131, 0.9381155169405131, 0.9381155169405131]}], \"weighted_accuracy\": [{\"categories\": [\"0\", \"2\", \"4\", \"20\", \"21\"], \"mode\": \"markers\", \"name\": \"weighted_accuracy\", \"stepped\": false, \"type\": \"scatter\", \"data\": [0.999784030863854, 0.9682972977784775, 0.9776215283150144, 0.9989003754009195, 0.9978452413548732]}, {\"categories\": [\"0\", \"2\", \"4\", \"20\", \"21\"], \"mode\": \"lines\", \"name\": \"weighted_accuracy_max\", \"stepped\": true, \"type\": \"scatter\", \"data\": [0.999784030863854, 0.999784030863854, 0.999784030863854, 0.999784030863854, 0.999784030863854]}], \"norm_macro_recall\": [{\"categories\": [\"0\", \"2\", \"4\", \"20\", \"21\"], \"mode\": \"markers\", \"name\": \"norm_macro_recall\", \"stepped\": false, \"type\": \"scatter\", \"data\": [0.8193978734002713, 0.8470582127622889, 0.869279036892134, 0.8368142778950418, 0.8515683690836024]}, {\"categories\": [\"0\", \"2\", \"4\", \"20\", \"21\"], \"mode\": \"lines\", \"name\": \"norm_macro_recall_max\", \"stepped\": true, \"type\": \"scatter\", \"data\": [0.8193978734002713, 0.8470582127622889, 0.869279036892134, 0.869279036892134, 0.869279036892134]}], \"average_precision_score_micro\": [{\"categories\": [\"0\", \"2\", \"4\", \"20\", \"21\"], \"mode\": \"markers\", \"name\": \"average_precision_score_micro\", \"stepped\": false, \"type\": \"scatter\", \"data\": [0.9426576737468579, 0.9735697111562995, 0.9805564282521473, 0.9762762804185435, 0.9817104998747931]}, {\"categories\": [\"0\", \"2\", \"4\", \"20\", \"21\"], \"mode\": \"lines\", \"name\": \"average_precision_score_micro_max\", \"stepped\": true, \"type\": \"scatter\", \"data\": [0.9426576737468579, 0.9735697111562995, 0.9805564282521473, 0.9805564282521473, 0.9817104998747931]}], \"recall_score_macro\": [{\"categories\": [\"0\", \"2\", \"4\", \"20\", \"21\"], \"mode\": \"markers\", \"name\": \"recall_score_macro\", \"stepped\": false, \"type\": \"scatter\", \"data\": [0.9096989367001352, 0.9235291063811232, 0.9346395184460519, 0.91840713894752, 0.9257841845417994]}, {\"categories\": [\"0\", \"2\", \"4\", \"20\", \"21\"], \"mode\": \"lines\", \"name\": \"recall_score_macro_max\", \"stepped\": true, \"type\": \"scatter\", \"data\": [0.9096989367001352, 0.9235291063811232, 0.9346395184460519, 0.9346395184460519, 0.9346395184460519]}], \"log_loss\": [{\"categories\": [\"0\", \"2\", \"4\", \"20\", \"21\"], \"mode\": \"markers\", \"name\": \"log_loss\", \"stepped\": false, \"type\": \"scatter\", \"data\": [0.5981025647947078, 0.33175558695927443, 0.204997042023163, 0.2210241971952665, 0.25653501830132414]}, {\"categories\": [\"0\", \"2\", \"4\", \"20\", \"21\"], \"mode\": \"lines\", \"name\": \"log_loss_min\", \"stepped\": true, \"type\": \"scatter\", \"data\": [0.5981025647947078, 0.33175558695927443, 0.204997042023163, 0.204997042023163, 0.204997042023163]}], \"AUC_macro\": [{\"categories\": [\"0\", \"2\", \"4\", \"20\", \"21\"], \"mode\": \"markers\", \"name\": \"AUC_macro\", \"stepped\": false, \"type\": \"scatter\", \"data\": [0.9711102416941589, 0.9712590199201042, 0.9757715221145109, 0.9791951192147467, 0.9778947326532826]}, {\"categories\": [\"0\", \"2\", \"4\", \"20\", \"21\"], \"mode\": \"lines\", \"name\": \"AUC_macro_max\", \"stepped\": true, \"type\": \"scatter\", \"data\": [0.9711102416941589, 0.9712590199201042, 0.9757715221145109, 0.9791951192147467, 0.9791951192147467]}], \"accuracy\": [{\"categories\": [\"0\", \"2\", \"4\", \"20\", \"21\"], \"mode\": \"markers\", \"name\": \"accuracy\", \"stepped\": false, \"type\": \"scatter\", \"data\": [0.909997280694854, 0.9233511468524348, 0.9345209732552618, 0.9185355656925882, 0.9257573053278714]}, {\"categories\": [\"0\", \"2\", \"4\", \"20\", \"21\"], \"mode\": \"lines\", \"name\": \"accuracy_max\", \"stepped\": true, \"type\": \"scatter\", \"data\": [0.909997280694854, 0.9233511468524348, 0.9345209732552618, 0.9345209732552618, 0.9345209732552618]}], \"balanced_accuracy\": [{\"categories\": [\"0\", \"2\", \"4\", \"20\", \"21\"], \"mode\": \"markers\", \"name\": \"balanced_accuracy\", \"stepped\": false, \"type\": \"scatter\", \"data\": [0.9096989367001352, 0.9235291063811232, 0.9346395184460519, 0.91840713894752, 0.9257841845417994]}, {\"categories\": [\"0\", \"2\", \"4\", \"20\", \"21\"], \"mode\": \"lines\", \"name\": \"balanced_accuracy_max\", \"stepped\": true, \"type\": \"scatter\", \"data\": [0.9096989367001352, 0.9235291063811232, 0.9346395184460519, 0.9346395184460519, 0.9346395184460519]}]}, \"metricName\": null, \"primaryMetricName\": \"AUC_weighted\", \"showLegend\": false}, \"run_metrics\": [{\"name\": \"experiment_status\", \"run_id\": \"AutoML_2bd69a7a-1b23-48eb-a4f3-d6068a5628c5\", \"categories\": [0, 1, 2, 3, 4, 5, 6, 7, 8, 9, 10, 11, 12, 13, 14], \"series\": [{\"data\": [\"DatasetEvaluation\", \"FeaturesGeneration\", \"DatasetFeaturization\", \"DatasetFeaturizationCompleted\", \"DatasetBalancing\", \"DatasetCrossValidationSplit\", \"ModelSelection\", \"BestRunExplainModel\", \"ModelExplanationDataSetSetup\", \"PickSurrogateModel\", \"EngineeredFeatureExplanations\", \"EngineeredFeatureExplanations\", \"RawFeaturesExplanations\", \"RawFeaturesExplanations\", \"BestRunExplainModel\"]}]}, {\"name\": \"experiment_status_description\", \"run_id\": \"AutoML_2bd69a7a-1b23-48eb-a4f3-d6068a5628c5\", \"categories\": [0, 1, 2, 3, 4, 5, 6, 7, 8, 9, 10, 11, 12, 13, 14], \"series\": [{\"data\": [\"Gathering dataset statistics.\", \"Generating features for the dataset.\", \"Beginning to fit featurizers and featurize the dataset.\", \"Completed fit featurizers and featurizing the dataset.\", \"Performing class balancing sweeping\", \"Generating individually featurized CV splits.\", \"Beginning model selection.\", \"Best run model explanations started\", \"Model explanations data setup completed\", \"Choosing LightGBM as the surrogate model for explanations\", \"Computation of engineered features started\", \"Computation of engineered features completed\", \"Computation of raw features started\", \"Computation of raw features completed\", \"Best run model explanations completed\"]}]}, {\"name\": \"AUC_weighted\", \"run_id\": \"AutoML_2bd69a7a-1b23-48eb-a4f3-d6068a5628c5\", \"categories\": [0], \"series\": [{\"data\": [0.9791951184894012]}]}, {\"name\": \"matthews_correlation\", \"run_id\": \"AutoML_2bd69a7a-1b23-48eb-a4f3-d6068a5628c5\", \"categories\": [0], \"series\": [{\"data\": [0.8480158235592163]}]}, {\"name\": \"accuracy\", \"run_id\": \"AutoML_2bd69a7a-1b23-48eb-a4f3-d6068a5628c5\", \"categories\": [0], \"series\": [{\"data\": [0.9185355656925882]}]}, {\"name\": \"log_loss\", \"run_id\": \"AutoML_2bd69a7a-1b23-48eb-a4f3-d6068a5628c5\", \"categories\": [0], \"series\": [{\"data\": [0.2210241971952665]}]}, {\"name\": \"AUC_macro\", \"run_id\": \"AutoML_2bd69a7a-1b23-48eb-a4f3-d6068a5628c5\", \"categories\": [0], \"series\": [{\"data\": [0.9791951192147467]}]}, {\"name\": \"precision_score_macro\", \"run_id\": \"AutoML_2bd69a7a-1b23-48eb-a4f3-d6068a5628c5\", \"categories\": [0], \"series\": [{\"data\": [0.9297089261411362]}]}, {\"name\": \"recall_score_macro\", \"run_id\": \"AutoML_2bd69a7a-1b23-48eb-a4f3-d6068a5628c5\", \"categories\": [0], \"series\": [{\"data\": [0.91840713894752]}]}, {\"name\": \"average_precision_score_micro\", \"run_id\": \"AutoML_2bd69a7a-1b23-48eb-a4f3-d6068a5628c5\", \"categories\": [0], \"series\": [{\"data\": [0.9762762804185435]}]}, {\"name\": \"AUC_micro\", \"run_id\": \"AutoML_2bd69a7a-1b23-48eb-a4f3-d6068a5628c5\", \"categories\": [0], \"series\": [{\"data\": [0.975934767182389]}]}, {\"name\": \"balanced_accuracy\", \"run_id\": \"AutoML_2bd69a7a-1b23-48eb-a4f3-d6068a5628c5\", \"categories\": [0], \"series\": [{\"data\": [0.91840713894752]}]}, {\"name\": \"norm_macro_recall\", \"run_id\": \"AutoML_2bd69a7a-1b23-48eb-a4f3-d6068a5628c5\", \"categories\": [0], \"series\": [{\"data\": [0.8368142778950418]}]}, {\"name\": \"average_precision_score_weighted\", \"run_id\": \"AutoML_2bd69a7a-1b23-48eb-a4f3-d6068a5628c5\", \"categories\": [0], \"series\": [{\"data\": [0.9788392486384445]}]}, {\"name\": \"f1_score_micro\", \"run_id\": \"AutoML_2bd69a7a-1b23-48eb-a4f3-d6068a5628c5\", \"categories\": [0], \"series\": [{\"data\": [0.9185355656926012]}]}, {\"name\": \"recall_score_micro\", \"run_id\": \"AutoML_2bd69a7a-1b23-48eb-a4f3-d6068a5628c5\", \"categories\": [0], \"series\": [{\"data\": [0.9185355656926187]}]}, {\"name\": \"precision_score_weighted\", \"run_id\": \"AutoML_2bd69a7a-1b23-48eb-a4f3-d6068a5628c5\", \"categories\": [0], \"series\": [{\"data\": [0.9299179066400713]}]}, {\"name\": \"average_precision_score_macro\", \"run_id\": \"AutoML_2bd69a7a-1b23-48eb-a4f3-d6068a5628c5\", \"categories\": [0], \"series\": [{\"data\": [0.9787886453166299]}]}, {\"name\": \"precision_score_micro\", \"run_id\": \"AutoML_2bd69a7a-1b23-48eb-a4f3-d6068a5628c5\", \"categories\": [0], \"series\": [{\"data\": [0.918535565692584]}]}, {\"name\": \"weighted_accuracy\", \"run_id\": \"AutoML_2bd69a7a-1b23-48eb-a4f3-d6068a5628c5\", \"categories\": [0], \"series\": [{\"data\": [0.9989003754009195]}]}, {\"name\": \"recall_score_weighted\", \"run_id\": \"AutoML_2bd69a7a-1b23-48eb-a4f3-d6068a5628c5\", \"categories\": [0], \"series\": [{\"data\": [0.9185355656926187]}]}, {\"name\": \"f1_score_weighted\", \"run_id\": \"AutoML_2bd69a7a-1b23-48eb-a4f3-d6068a5628c5\", \"categories\": [0], \"series\": [{\"data\": [0.9179877335564214]}]}, {\"name\": \"f1_score_macro\", \"run_id\": \"AutoML_2bd69a7a-1b23-48eb-a4f3-d6068a5628c5\", \"categories\": [0], \"series\": [{\"data\": [0.9177965709287168]}]}], \"run_logs\": \"\\nRun is completed.\", \"graph\": {}, \"widget_settings\": {\"childWidgetDisplay\": \"popup\", \"send_telemetry\": false, \"log_level\": \"INFO\", \"sdk_version\": \"1.47.0\"}, \"loading\": false}"
     },
     "metadata": {},
     "output_type": "display_data"
    },
    {
     "data": {
      "text/html": [
       "<table style=\"width:100%\"><tr><th>Experiment</th><th>Id</th><th>Type</th><th>Status</th><th>Details Page</th><th>Docs Page</th></tr><tr><td>creditcardfraud</td><td>AutoML_2bd69a7a-1b23-48eb-a4f3-d6068a5628c5</td><td>automl</td><td>NotStarted</td><td><a href=\"https://ml.azure.com/runs/AutoML_2bd69a7a-1b23-48eb-a4f3-d6068a5628c5?wsid=/subscriptions/611bccaf-ced7-4b1d-9395-57559c451c39/resourcegroups/raineldias88-rg/workspaces/workspace-rainel&amp;tid=f2c80df2-0dbc-4eb5-9af1-fd0a90497ca6\" target=\"_blank\" rel=\"noopener\">Link to Azure Machine Learning studio</a></td><td><a href=\"https://docs.microsoft.com/en-us/python/api/overview/azure/ml/intro?view=azure-ml-py\" target=\"_blank\" rel=\"noopener\">Link to Documentation</a></td></tr></table>"
      ],
      "text/plain": [
       "<IPython.core.display.HTML object>"
      ]
     },
     "metadata": {},
     "output_type": "display_data"
    },
    {
     "name": "stdout",
     "output_type": "stream",
     "text": [
      "\n",
      "Current status: DatasetEvaluation. Gathering dataset statistics.\n",
      "Current status: FeaturesGeneration. Generating features for the dataset.\n",
      "Current status: DatasetBalancing. Performing class balancing sweeping\n",
      "Current status: DatasetCrossValidationSplit. Generating individually featurized CV splits.\n",
      "Current status: ModelSelection. Beginning model selection.\n",
      "\n",
      "********************************************************************************************\n",
      "DATA GUARDRAILS: \n",
      "\n",
      "TYPE:         Class balancing detection\n",
      "STATUS:       ALERTED\n",
      "DESCRIPTION:  To decrease model bias, please cancel the current run and fix balancing problem.\n",
      "              Learn more about imbalanced data: https://aka.ms/AutomatedMLImbalancedData\n",
      "DETAILS:      Imbalanced data can lead to a falsely perceived positive effect of a model's accuracy because the input data has bias towards one class.\n",
      "+------------------------------+--------------------------------+--------------------------------------+\n",
      "|Size of the smallest class    |Name/Label of the smallest class|Number of samples in the training data|\n",
      "+==============================+================================+======================================+\n",
      "|394                           |True                            |227845                                |\n",
      "+------------------------------+--------------------------------+--------------------------------------+\n",
      "\n",
      "********************************************************************************************\n",
      "\n",
      "TYPE:         Missing feature values imputation\n",
      "STATUS:       DONE\n",
      "DESCRIPTION:  If the missing values are expected, let the run complete. Otherwise cancel the current run and use a script to customize the handling of missing feature values that may be more appropriate based on the data type and business requirement.\n",
      "              Learn more about missing value imputation: https://aka.ms/AutomatedMLFeaturization\n",
      "DETAILS:      \n",
      "+------------------------------+------------------------------+------------------------------+\n",
      "|Column name                   |Missing value count           |Imputation type               |\n",
      "+==============================+==============================+==============================+\n",
      "|Time                          |1                             |mean                          |\n",
      "+------------------------------+------------------------------+------------------------------+\n",
      "\n",
      "********************************************************************************************\n",
      "\n",
      "TYPE:         High cardinality feature detection\n",
      "STATUS:       PASSED\n",
      "DESCRIPTION:  Your inputs were analyzed, and no high cardinality features were detected.\n",
      "              Learn more about high cardinality feature handling: https://aka.ms/AutomatedMLFeaturization\n",
      "\n",
      "********************************************************************************************\n",
      "\n",
      "********************************************************************************************\n",
      "ITER: The iteration being evaluated.\n",
      "PIPELINE: A summary description of the pipeline being evaluated.\n",
      "DURATION: Time taken for the current iteration.\n",
      "METRIC: The result of computing score on the fitted pipeline.\n",
      "BEST: The best observed score thus far.\n",
      "********************************************************************************************\n",
      "\n",
      " ITER   PIPELINE                                       DURATION            METRIC      BEST\n",
      "    0   MaxAbsScaler LightGBM                          0:00:59             0.9711    0.9711\n",
      "    1   MaxAbsScaler XGBoostClassifier                 0:14:09             0.9763    0.9763\n",
      "    2   MaxAbsScaler ExtremeRandomTrees                0:00:33             0.9713    0.9763\n",
      "    3   MaxAbsScaler RandomForest                      0:00:59             0.9715    0.9763\n",
      "    4   StandardScalerWrapper LightGBM                 0:00:38             0.9758    0.9763\n",
      "    5   SparseNormalizer XGBoostClassifier             0:01:32             0.9701    0.9763\n",
      "    6   SparseNormalizer RandomForest                  0:03:50             0.8311    0.9763\n",
      "    7   MinMaxScaler RandomForest                      0:11:24                nan    0.9763\n",
      "    8                                                  0:34:38                nan    0.9763\n",
      "    9                                                  0:34:38                nan    0.9763\n",
      "   10                                                  0:34:38                nan    0.9763\n",
      "   11                                                  0:34:37                nan    0.9763\n",
      "   12                                                  0:34:37                nan    0.9763\n",
      "   13                                                  0:34:37                nan    0.9763\n",
      "   14                                                  0:34:36                nan    0.9763\n",
      "   15                                                  0:34:36                nan    0.9763\n",
      "   16                                                  0:34:35                nan    0.9763\n",
      "   17                                                  0:34:34                nan    0.9763\n",
      "   18                                                  0:34:34                nan    0.9763\n",
      "   19                                                  0:34:34                nan    0.9763\n",
      "   20    VotingEnsemble                                0:01:15             0.9792    0.9792\n",
      "   21    StackEnsemble                                 0:02:40             0.9779    0.9792\n"
     ]
    },
    {
     "data": {
      "text/plain": [
       "{'runId': 'AutoML_2bd69a7a-1b23-48eb-a4f3-d6068a5628c5',\n",
       " 'target': 'compute-cluster',\n",
       " 'status': 'Completed',\n",
       " 'startTimeUtc': '2022-11-19T10:50:56.059166Z',\n",
       " 'endTimeUtc': '2022-11-19T11:40:01.708902Z',\n",
       " 'services': {},\n",
       " 'warnings': [{'source': 'JasmineService',\n",
       "   'message': 'Experiment timeout reached, hence experiment stopped. Current experiment timeout: 0 hour(s) 30 minute(s)'}],\n",
       " 'properties': {'num_iterations': '1000',\n",
       "  'training_type': 'TrainFull',\n",
       "  'acquisition_function': 'EI',\n",
       "  'primary_metric': 'AUC_weighted',\n",
       "  'train_split': '0',\n",
       "  'acquisition_parameter': '0',\n",
       "  'num_cross_validation': '5',\n",
       "  'target': 'compute-cluster',\n",
       "  'AMLSettingsJsonString': '{\"path\":null,\"name\":\"creditcardfraud\",\"subscription_id\":\"611bccaf-ced7-4b1d-9395-57559c451c39\",\"resource_group\":\"raineldias88-rg\",\"workspace_name\":\"workspace-rainel\",\"region\":\"brazilsouth\",\"compute_target\":\"compute-cluster\",\"spark_service\":null,\"azure_service\":\"remote\",\"many_models\":false,\"pipeline_fetch_max_batch_size\":1,\"enable_batch_run\":true,\"enable_parallel_run\":false,\"num_procs\":null,\"enable_run_restructure\":false,\"start_auxiliary_runs_before_parent_complete\":false,\"enable_code_generation\":true,\"iterations\":1000,\"primary_metric\":\"AUC_weighted\",\"task_type\":\"classification\",\"positive_label\":null,\"data_script\":null,\"test_size\":0.0,\"test_include_predictions_only\":false,\"validation_size\":0.0,\"n_cross_validations\":5,\"y_min\":null,\"y_max\":null,\"num_classes\":null,\"featurization\":\"auto\",\"_ignore_package_version_incompatibilities\":false,\"is_timeseries\":false,\"max_cores_per_iteration\":1,\"max_concurrent_iterations\":1,\"iteration_timeout_minutes\":null,\"mem_in_mb\":null,\"enforce_time_on_windows\":false,\"experiment_timeout_minutes\":30,\"experiment_exit_score\":null,\"partition_column_names\":null,\"whitelist_models\":null,\"blacklist_algos\":[\"TensorFlowLinearClassifier\",\"TensorFlowDNN\"],\"supported_models\":[\"RandomForest\",\"SGD\",\"KNN\",\"XGBoostClassifier\",\"LightGBM\",\"TensorFlowDNN\",\"DecisionTree\",\"SVM\",\"TabnetClassifier\",\"MultinomialNaiveBayes\",\"GradientBoosting\",\"BernoulliNaiveBayes\",\"AveragedPerceptronClassifier\",\"LogisticRegression\",\"ExtremeRandomTrees\",\"LinearSVM\",\"TensorFlowLinearClassifier\"],\"private_models\":[],\"auto_blacklist\":true,\"blacklist_samples_reached\":false,\"exclude_nan_labels\":true,\"verbosity\":20,\"_debug_log\":\"azureml_automl.log\",\"show_warnings\":false,\"model_explainability\":true,\"service_url\":null,\"sdk_url\":null,\"sdk_packages\":null,\"enable_onnx_compatible_models\":false,\"enable_split_onnx_featurizer_estimator_models\":false,\"vm_type\":\"STANDARD_D2_V2\",\"telemetry_verbosity\":20,\"send_telemetry\":true,\"enable_dnn\":false,\"scenario\":\"AutoML\",\"environment_label\":null,\"save_mlflow\":false,\"enable_categorical_indicators\":false,\"force_text_dnn\":false,\"enable_feature_sweeping\":true,\"enable_early_stopping\":true,\"early_stopping_n_iters\":10,\"arguments\":null,\"dataset_id\":\"068abf42-312c-4a90-a7e9-84ee5e60a968\",\"hyperdrive_config\":null,\"validation_dataset_id\":null,\"run_source\":null,\"metrics\":null,\"enable_metric_confidence\":false,\"enable_ensembling\":true,\"enable_stack_ensembling\":true,\"ensemble_iterations\":15,\"enable_tf\":false,\"enable_subsampling\":null,\"subsample_seed\":null,\"enable_nimbusml\":false,\"enable_streaming\":false,\"force_streaming\":false,\"track_child_runs\":true,\"n_best_runs\":1,\"allowed_private_models\":[],\"label_column_name\":\"Class\",\"weight_column_name\":null,\"cv_split_column_names\":null,\"enable_local_managed\":false,\"_local_managed_run_id\":null,\"cost_mode\":1,\"lag_length\":0,\"metric_operation\":\"maximize\",\"preprocess\":true}',\n",
       "  'DataPrepJsonString': '{\\\\\"training_data\\\\\": {\\\\\"datasetId\\\\\": \\\\\"068abf42-312c-4a90-a7e9-84ee5e60a968\\\\\"}, \\\\\"datasets\\\\\": 0}',\n",
       "  'EnableSubsampling': None,\n",
       "  'runTemplate': 'AutoML',\n",
       "  'azureml.runsource': 'automl',\n",
       "  'display_task_type': 'classification',\n",
       "  'dependencies_versions': '{\"azureml-widgets\": \"1.47.0\", \"azureml-training-tabular\": \"1.47.0\", \"azureml-train\": \"1.47.0\", \"azureml-train-restclients-hyperdrive\": \"1.47.0\", \"azureml-train-core\": \"1.47.0\", \"azureml-train-automl\": \"1.47.0\", \"azureml-train-automl-runtime\": \"1.47.0\", \"azureml-train-automl-client\": \"1.47.0\", \"azureml-tensorboard\": \"1.47.0\", \"azureml-telemetry\": \"1.47.0\", \"azureml-sdk\": \"1.47.0\", \"azureml-samples\": \"0+unknown\", \"azureml-responsibleai\": \"1.47.0\", \"azureml-pipeline\": \"1.47.0\", \"azureml-pipeline-steps\": \"1.47.0\", \"azureml-pipeline-core\": \"1.47.0\", \"azureml-opendatasets\": \"1.47.0\", \"azureml-mlflow\": \"1.47.0\", \"azureml-interpret\": \"1.47.0\", \"azureml-inference-server-http\": \"0.7.6\", \"azureml-explain-model\": \"1.47.0\", \"azureml-defaults\": \"1.47.0\", \"azureml-dataset-runtime\": \"1.47.0\", \"azureml-dataprep\": \"4.5.7\", \"azureml-dataprep-rslex\": \"2.11.4\", \"azureml-dataprep-native\": \"38.0.0\", \"azureml-datadrift\": \"1.47.0\", \"azureml-core\": \"1.47.0\", \"azureml-contrib-services\": \"1.47.0\", \"azureml-contrib-server\": \"1.47.0\", \"azureml-contrib-reinforcementlearning\": \"1.47.0\", \"azureml-contrib-pipeline-steps\": \"1.47.0\", \"azureml-contrib-notebook\": \"1.47.0\", \"azureml-contrib-fairness\": \"1.47.0\", \"azureml-contrib-dataset\": \"1.47.0\", \"azureml-contrib-automl-pipeline-steps\": \"1.47.0\", \"azureml-cli-common\": \"1.47.0\", \"azureml-automl-runtime\": \"1.47.0\", \"azureml-automl-dnn-nlp\": \"1.47.0\", \"azureml-automl-core\": \"1.47.0\", \"azureml-accel-models\": \"1.47.0\"}',\n",
       "  '_aml_system_scenario_identification': 'Remote.Parent',\n",
       "  'ClientType': 'SDK',\n",
       "  'environment_cpu_name': 'AzureML-AutoML',\n",
       "  'environment_cpu_label': 'prod',\n",
       "  'environment_gpu_name': 'AzureML-AutoML-GPU',\n",
       "  'environment_gpu_label': 'prod',\n",
       "  'root_attribution': 'automl',\n",
       "  'attribution': 'AutoML',\n",
       "  'Orchestrator': 'AutoML',\n",
       "  'CancelUri': 'https://brazilsouth.api.azureml.ms/jasmine/v1.0/subscriptions/611bccaf-ced7-4b1d-9395-57559c451c39/resourceGroups/raineldias88-rg/providers/Microsoft.MachineLearningServices/workspaces/workspace-rainel/experimentids/8f7f5231-e93a-48b1-a94d-4c6baddbd348/cancel/AutoML_2bd69a7a-1b23-48eb-a4f3-d6068a5628c5',\n",
       "  'ClientSdkVersion': '1.46.1',\n",
       "  'snapshotId': '00000000-0000-0000-0000-000000000000',\n",
       "  'SetupRunId': 'AutoML_2bd69a7a-1b23-48eb-a4f3-d6068a5628c5_setup',\n",
       "  'SetupRunContainerId': 'dcid.AutoML_2bd69a7a-1b23-48eb-a4f3-d6068a5628c5_setup',\n",
       "  'FeaturizationRunJsonPath': 'featurizer_container.json',\n",
       "  'FeaturizationRunId': 'AutoML_2bd69a7a-1b23-48eb-a4f3-d6068a5628c5_featurize',\n",
       "  'ProblemInfoJsonString': '{\"dataset_num_categorical\": 0, \"is_sparse\": false, \"subsampling\": false, \"has_extra_col\": true, \"dataset_classes\": 2, \"dataset_features\": 30, \"dataset_samples\": 227845, \"single_frequency_class_detected\": false}',\n",
       "  'ModelExplainRunId': 'AutoML_2bd69a7a-1b23-48eb-a4f3-d6068a5628c5_ModelExplain'},\n",
       " 'inputDatasets': [{'dataset': {'id': '068abf42-312c-4a90-a7e9-84ee5e60a968'}, 'consumptionDetails': {'type': 'RunInput', 'inputName': 'training_data', 'mechanism': 'Direct'}}],\n",
       " 'outputDatasets': [{'identifier': {'savedId': 'd99d1740-715a-4de1-9e06-2619f924f111'},\n",
       "   'outputType': 'RunOutput',\n",
       "   'outputDetails': {'outputName': 'full_training_dataset'},\n",
       "   'dataset': {\n",
       "     \"source\": [\n",
       "       \"('workspaceartifactstore', 'ExperimentRun/dcid.AutoML_2bd69a7a-1b23-48eb-a4f3-d6068a5628c5/outputs/featurization/data/full_training_dataset.df.parquet')\"\n",
       "     ],\n",
       "     \"definition\": [\n",
       "       \"GetDatastoreFiles\",\n",
       "       \"ReadParquetFile\",\n",
       "       \"DropColumns\"\n",
       "     ],\n",
       "     \"registration\": {\n",
       "       \"id\": \"d99d1740-715a-4de1-9e06-2619f924f111\",\n",
       "       \"name\": null,\n",
       "       \"version\": null,\n",
       "       \"workspace\": \"Workspace.create(name='workspace-rainel', subscription_id='611bccaf-ced7-4b1d-9395-57559c451c39', resource_group='raineldias88-rg')\"\n",
       "     }\n",
       "   }}],\n",
       " 'logFiles': {},\n",
       " 'submittedBy': 'Felipe Rainel Gattass Dias Rainel'}"
      ]
     },
     "execution_count": 19,
     "metadata": {},
     "output_type": "execute_result"
    }
   ],
   "source": [
    "# Submitting the Experiment\n",
    "\n",
    "from azureml.widgets import RunDetails\n",
    "remote_run = exp.submit(automl_config)\n",
    "RunDetails(remote_run).show()\n",
    "remote_run.wait_for_completion(show_output=True)"
   ]
  },
  {
   "cell_type": "markdown",
   "metadata": {},
   "source": [
    "## Best Model"
   ]
  },
  {
   "cell_type": "code",
   "execution_count": 20,
   "metadata": {
    "gather": {
     "logged": 1598431425670
    },
    "jupyter": {
     "outputs_hidden": false,
     "source_hidden": false
    },
    "nteract": {
     "transient": {
      "deleting": false
     }
    }
   },
   "outputs": [
    {
     "name": "stdout",
     "output_type": "stream",
     "text": [
      "Run(Experiment: creditcardfraud,\n",
      "Id: AutoML_2bd69a7a-1b23-48eb-a4f3-d6068a5628c5_20,\n",
      "Type: azureml.scriptrun,\n",
      "Status: Completed)\n"
     ]
    }
   ],
   "source": [
    "# Getting the best model\n",
    "\n",
    "best_run, fittedb_model = remote_run.get_output()\n",
    "\n",
    "print(best_run)"
   ]
  },
  {
   "cell_type": "code",
   "execution_count": 21,
   "metadata": {
    "gather": {
     "logged": 1598431426111
    },
    "jupyter": {
     "outputs_hidden": false,
     "source_hidden": false
    },
    "nteract": {
     "transient": {
      "deleting": false
     }
    }
   },
   "outputs": [
    {
     "data": {
      "text/plain": [
       "0.9791951184894012"
      ]
     },
     "execution_count": 21,
     "metadata": {},
     "output_type": "execute_result"
    }
   ],
   "source": [
    "# checking the accuracy of model\n",
    "best_run.get_metrics()['AUC_weighted']"
   ]
  },
  {
   "cell_type": "code",
   "execution_count": 25,
   "metadata": {},
   "outputs": [],
   "source": [
    "# Saving the Best Model in .pkl format, and registering the model\n",
    "\n",
    "import joblib\n",
    "\n",
    "description = \"AutoML model trained on Credit Card Fraud Dataset\"\n",
    "\n",
    "os.makedirs('outputs', exist_ok=True)\n",
    "joblib.dump(fittedb_model, filename=\"outputs/automl-model.pkl\")\n",
    "automl_model = remote_run.register_model(model_name='automl-creditcard', description=description)"
   ]
  },
  {
   "cell_type": "markdown",
   "metadata": {},
   "source": [
    "## Model Deployment\n",
    "\n",
    "The accuracy of AutoML is higher than Hyper Drive method, so I am choosing this autoML model to deploy"
   ]
  },
  {
   "cell_type": "code",
   "execution_count": 26,
   "metadata": {
    "gather": {
     "logged": 1598431435189
    },
    "jupyter": {
     "outputs_hidden": false,
     "source_hidden": false
    },
    "nteract": {
     "transient": {
      "deleting": false
     }
    }
   },
   "outputs": [],
   "source": [
    "# Deploying Model as Azure Container Instance service\n",
    "\n",
    "from azureml.core.webservice import AciWebservice\n",
    "\n",
    "aci_config = AciWebservice.deploy_configuration(\n",
    "    cpu_cores=1,\n",
    "    memory_gb=1,\n",
    "    description='Predict if a transaction is Fraud (1) or not (0)',\n",
    "    auth_enabled=True)"
   ]
  },
  {
   "cell_type": "code",
   "execution_count": 27,
   "metadata": {},
   "outputs": [
    {
     "name": "stdout",
     "output_type": "stream",
     "text": [
      "Tips: You can try get_logs(): https://aka.ms/debugimage#dockerlog or local deployment: https://aka.ms/debugimage#debug-locally to debug if deployment takes longer than 10 minutes.\n",
      "Running\n",
      "2022-11-19 11:56:41+00:00 Creating Container Registry if not exists..\n",
      "2022-11-19 12:06:41+00:00 Registering the environment.\n",
      "2022-11-19 12:06:42+00:00 Use the existing image..\n",
      "2022-11-19 12:06:42+00:00 Submitting deployment to compute..\n",
      "2022-11-19 12:06:50+00:00 Checking the status of deployment automl-creditcard-1..\n",
      "2022-11-19 12:09:18+00:00 Checking the status of inference endpoint automl-creditcard-1.\n",
      "Succeeded\n",
      "ACI service creation operation finished, operation \"Succeeded\"\n"
     ]
    }
   ],
   "source": [
    "from azureml.core.model import Model\n",
    "from azureml.automl.core.shared import constants\n",
    "from azureml.core.model import InferenceConfig\n",
    "\n",
    "\n",
    "model = Model(ws, 'automl-creditcard')\n",
    "myenv = best_run.get_environment()\n",
    "entry_script = 'score.py'\n",
    "best_run.download_file('outputs/scoring_file_v_1_0_0.py', entry_script)\n",
    "best_run.download_file(constants.CONDA_ENV_FILE_PATH, 'myenv.yml')\n",
    "\n",
    "inference_config = InferenceConfig(entry_script=entry_script, environment=myenv)\n",
    "\n",
    "service = Model.deploy(workspace=ws, \n",
    "                       name='automl-creditcard-1', \n",
    "                       models=[model], \n",
    "                       inference_config=inference_config, \n",
    "                       deployment_config=aci_config,\n",
    "                       overwrite=True)\n",
    "\n",
    "service.wait_for_deployment(show_output=True)"
   ]
  },
  {
   "cell_type": "markdown",
   "metadata": {
    "collapsed": true,
    "gather": {
     "logged": 1598431657736
    },
    "jupyter": {
     "outputs_hidden": false,
     "source_hidden": false
    },
    "nteract": {
     "transient": {
      "deleting": false
     }
    }
   },
   "source": [
    "### Getting two data points from Test set to make it json ready for scoring"
   ]
  },
  {
   "cell_type": "code",
   "execution_count": 28,
   "metadata": {
    "gather": {
     "logged": 1598432707604
    },
    "jupyter": {
     "outputs_hidden": false,
     "source_hidden": false
    },
    "nteract": {
     "transient": {
      "deleting": false
     }
    },
    "scrolled": true
   },
   "outputs": [
    {
     "data": {
      "text/html": [
       "<div>\n",
       "<style scoped>\n",
       "    .dataframe tbody tr th:only-of-type {\n",
       "        vertical-align: middle;\n",
       "    }\n",
       "\n",
       "    .dataframe tbody tr th {\n",
       "        vertical-align: top;\n",
       "    }\n",
       "\n",
       "    .dataframe thead th {\n",
       "        text-align: right;\n",
       "    }\n",
       "</style>\n",
       "<table border=\"1\" class=\"dataframe\">\n",
       "  <thead>\n",
       "    <tr style=\"text-align: right;\">\n",
       "      <th></th>\n",
       "      <th>Time</th>\n",
       "      <th>V1</th>\n",
       "      <th>V2</th>\n",
       "      <th>V3</th>\n",
       "      <th>V4</th>\n",
       "      <th>V5</th>\n",
       "      <th>V6</th>\n",
       "      <th>V7</th>\n",
       "      <th>V8</th>\n",
       "      <th>V9</th>\n",
       "      <th>...</th>\n",
       "      <th>V20</th>\n",
       "      <th>V21</th>\n",
       "      <th>V22</th>\n",
       "      <th>V23</th>\n",
       "      <th>V24</th>\n",
       "      <th>V25</th>\n",
       "      <th>V26</th>\n",
       "      <th>V27</th>\n",
       "      <th>V28</th>\n",
       "      <th>Amount</th>\n",
       "    </tr>\n",
       "  </thead>\n",
       "  <tbody>\n",
       "    <tr>\n",
       "      <th>0</th>\n",
       "      <td>41505.00</td>\n",
       "      <td>-16.53</td>\n",
       "      <td>8.58</td>\n",
       "      <td>-18.65</td>\n",
       "      <td>9.51</td>\n",
       "      <td>-13.79</td>\n",
       "      <td>-2.83</td>\n",
       "      <td>-16.70</td>\n",
       "      <td>7.52</td>\n",
       "      <td>-8.51</td>\n",
       "      <td>...</td>\n",
       "      <td>-1.51</td>\n",
       "      <td>1.19</td>\n",
       "      <td>-1.13</td>\n",
       "      <td>-2.36</td>\n",
       "      <td>0.67</td>\n",
       "      <td>-1.41</td>\n",
       "      <td>-0.46</td>\n",
       "      <td>-2.02</td>\n",
       "      <td>-1.04</td>\n",
       "      <td>364.19</td>\n",
       "    </tr>\n",
       "    <tr>\n",
       "      <th>1</th>\n",
       "      <td>44261.00</td>\n",
       "      <td>0.34</td>\n",
       "      <td>-2.74</td>\n",
       "      <td>-0.13</td>\n",
       "      <td>-1.39</td>\n",
       "      <td>-1.45</td>\n",
       "      <td>1.02</td>\n",
       "      <td>-0.52</td>\n",
       "      <td>0.22</td>\n",
       "      <td>0.90</td>\n",
       "      <td>...</td>\n",
       "      <td>0.51</td>\n",
       "      <td>-0.21</td>\n",
       "      <td>-0.94</td>\n",
       "      <td>-0.53</td>\n",
       "      <td>-1.16</td>\n",
       "      <td>0.31</td>\n",
       "      <td>-0.75</td>\n",
       "      <td>0.04</td>\n",
       "      <td>0.10</td>\n",
       "      <td>520.12</td>\n",
       "    </tr>\n",
       "  </tbody>\n",
       "</table>\n",
       "<p>2 rows × 30 columns</p>\n",
       "</div>"
      ],
      "text/plain": [
       "      Time     V1    V2     V3    V4     V5    V6     V7   V8    V9  ...  \\\n",
       "0 41505.00 -16.53  8.58 -18.65  9.51 -13.79 -2.83 -16.70 7.52 -8.51  ...   \n",
       "1 44261.00   0.34 -2.74  -0.13 -1.39  -1.45  1.02  -0.52 0.22  0.90  ...   \n",
       "\n",
       "    V20   V21   V22   V23   V24   V25   V26   V27   V28  Amount  \n",
       "0 -1.51  1.19 -1.13 -2.36  0.67 -1.41 -0.46 -2.02 -1.04  364.19  \n",
       "1  0.51 -0.21 -0.94 -0.53 -1.16  0.31 -0.75  0.04  0.10  520.12  \n",
       "\n",
       "[2 rows x 30 columns]"
      ]
     },
     "execution_count": 28,
     "metadata": {},
     "output_type": "execute_result"
    }
   ],
   "source": [
    "#getting test data ready\n",
    "test_data = pd.DataFrame(X_test[:2]) #pick two data points for test\n",
    "features = columns[:-1]\n",
    "test_data.columns= features\n",
    "test_data"
   ]
  },
  {
   "cell_type": "code",
   "execution_count": 29,
   "metadata": {},
   "outputs": [],
   "source": [
    "test_data['json'] = test_data.apply(lambda x: x.to_json(), axis=1)"
   ]
  },
  {
   "cell_type": "code",
   "execution_count": 30,
   "metadata": {
    "scrolled": true
   },
   "outputs": [
    {
     "data": {
      "text/plain": [
       "'{\"Time\":41505.0,\"V1\":-16.5265065691,\"V2\":8.5849717959,\"V3\":-18.6498531852,\"V4\":9.5055935151,\"V5\":-13.7938185271,\"V6\":-2.8324042994,\"V7\":-16.701694296,\"V8\":7.5173439037,\"V9\":-8.5070586368,\"V10\":-14.1101844415,\"V11\":5.2992363496,\"V12\":-10.8340064815,\"V13\":1.6711202533,\"V14\":-9.3738585836,\"V15\":0.3608056416,\"V16\":-9.8992465408,\"V17\":-19.2362923698,\"V18\":-8.3985519949,\"V19\":3.1017353689,\"V20\":-1.5149234353,\"V21\":1.1907386948,\"V22\":-1.127670009,\"V23\":-2.3585787698,\"V24\":0.673461329,\"V25\":-1.4136996746,\"V26\":-0.4627623614,\"V27\":-2.0185752488,\"V28\":-1.0428041697,\"Amount\":364.19}'"
      ]
     },
     "execution_count": 30,
     "metadata": {},
     "output_type": "execute_result"
    }
   ],
   "source": [
    "test_data['json'][0]\n"
   ]
  },
  {
   "cell_type": "code",
   "execution_count": 31,
   "metadata": {
    "scrolled": true
   },
   "outputs": [
    {
     "data": {
      "text/plain": [
       "'{\"Time\":44261.0,\"V1\":0.3398120639,\"V2\":-2.7437452373,\"V3\":-0.134069511,\"V4\":-1.3857293091,\"V5\":-1.4514133205,\"V6\":1.0158865939,\"V7\":-0.5243790569,\"V8\":0.2240603761,\"V9\":0.8997460049,\"V10\":-0.5650116836,\"V11\":-0.0876702573,\"V12\":0.9794269879,\"V13\":0.0768828168,\"V14\":-0.2178838121,\"V15\":-0.1368295877,\"V16\":-2.1428920902,\"V17\":0.1269560647,\"V18\":1.7526615075,\"V19\":0.4325462237,\"V20\":0.5060438852,\"V21\":-0.2134358436,\"V22\":-0.9425250246,\"V23\":-0.5268191745,\"V24\":-1.1569918974,\"V25\":0.3112105102,\"V26\":-0.7466466791,\"V27\":0.0409958027,\"V28\":0.1020378246,\"Amount\":520.12}'"
      ]
     },
     "execution_count": 31,
     "metadata": {},
     "output_type": "execute_result"
    }
   ],
   "source": [
    "test_data['json'][1]"
   ]
  },
  {
   "cell_type": "code",
   "execution_count": 32,
   "metadata": {
    "scrolled": false
   },
   "outputs": [
    {
     "name": "stdout",
     "output_type": "stream",
     "text": [
      "Health_Status: Healthy\n",
      "Key: twnjY5J7CLsm9ag2wBhzlARilolExocw\n",
      "Scoring URI: http://d268e639-bcbc-4b57-be21-b48640ac7421.brazilsouth.azurecontainer.io/score\n"
     ]
    }
   ],
   "source": [
    "# print the scoring uri info \n",
    "print(\"Health_Status: \"+ service.state)\n",
    "print(\"Key: \" + service.get_keys()[0])\n",
    "print(\"Scoring URI: \" + service.scoring_uri)\n"
   ]
  },
  {
   "cell_type": "markdown",
   "metadata": {},
   "source": [
    "### Add these json formatted test data points to the endpoint.py file which will be passed for scoring"
   ]
  },
  {
   "cell_type": "code",
   "execution_count": 33,
   "metadata": {
    "scrolled": true
   },
   "outputs": [
    {
     "name": "stdout",
     "output_type": "stream",
     "text": [
      "{\"result\": [true, false]}\n"
     ]
    }
   ],
   "source": [
    "%run endpoint.py"
   ]
  },
  {
   "cell_type": "markdown",
   "metadata": {},
   "source": [
    "## Print logs and Delete Resources"
   ]
  },
  {
   "cell_type": "code",
   "execution_count": 34,
   "metadata": {},
   "outputs": [],
   "source": [
    "## Lets enable app insights logging\n",
    "service.update(enable_app_insights=True)"
   ]
  },
  {
   "cell_type": "code",
   "execution_count": 37,
   "metadata": {},
   "outputs": [
    {
     "name": "stdout",
     "output_type": "stream",
     "text": [
      "2022-11-19T12:23:13,991220932+00:00 - iot-server/run \n",
      "2022-11-19T12:23:13,991287531+00:00 - rsyslog/run \n",
      "2022-11-19T12:23:14,003051078+00:00 - gunicorn/run \n",
      "2022-11-19T12:23:14,008855103+00:00 | gunicorn/run | \n",
      "2022-11-19T12:23:14,011838364+00:00 | gunicorn/run | ###############################################\n",
      "2022-11-19T12:23:14,016950197+00:00 | gunicorn/run | AzureML Container Runtime Information\n",
      "2022-11-19T12:23:14,020862946+00:00 - nginx/run \n",
      "2022-11-19T12:23:14,024843294+00:00 | gunicorn/run | ###############################################\n",
      "2022-11-19T12:23:14,026438374+00:00 | gunicorn/run | \n",
      "2022-11-19T12:23:14,028035853+00:00 | gunicorn/run | \n",
      "2022-11-19T12:23:14,046499812+00:00 | gunicorn/run | AzureML image information: openmpi3.1.2-ubuntu18.04, Materializaton Build:20220930.v4\n",
      "2022-11-19T12:23:14,049419974+00:00 | gunicorn/run | \n",
      "2022-11-19T12:23:14,055813191+00:00 | gunicorn/run | \n",
      "2022-11-19T12:23:14,060283433+00:00 | gunicorn/run | PATH environment variable: /azureml-envs/azureml_167ced737ee9811a93e21408b63f0ab3/bin:/opt/miniconda/bin:/usr/local/sbin:/usr/local/bin:/usr/sbin:/usr/bin:/sbin:/bin\n",
      "2022-11-19T12:23:14,065025071+00:00 | gunicorn/run | PYTHONPATH environment variable: \n",
      "2022-11-19T12:23:14,068065832+00:00 | gunicorn/run | \n",
      "2022-11-19T12:23:14,072781570+00:00 | gunicorn/run | Pip Dependencies (before dynamic installation)\n",
      "\n",
      "EdgeHubConnectionString and IOTEDGE_IOTHUBHOSTNAME are not set. Exiting...\n",
      "2022-11-19T12:23:14,405765433+00:00 - iot-server/finish 1 0\n",
      "2022-11-19T12:23:14,410780568+00:00 - Exit code 1 is normal. Not restarting iot-server.\n",
      "adal==1.2.7\n",
      "applicationinsights==0.11.10\n",
      "argcomplete==2.0.0\n",
      "arviz @ file:///tmp/build/80754af9/arviz_1614019183254/work\n",
      "attrs==22.1.0\n",
      "azure-common==1.1.28\n",
      "azure-core==1.26.0\n",
      "azure-graphrbac==0.61.1\n",
      "azure-identity==1.11.0\n",
      "azure-mgmt-authorization==2.0.0\n",
      "azure-mgmt-containerregistry==10.0.0\n",
      "azure-mgmt-core==1.3.2\n",
      "azure-mgmt-keyvault==10.1.0\n",
      "azure-mgmt-resource==21.1.0\n",
      "azure-mgmt-storage==20.0.0\n",
      "azure-storage-blob==12.13.0\n",
      "azure-storage-queue==12.4.0\n",
      "azureml-automl-core==1.46.1\n",
      "azureml-automl-runtime==1.46.1\n",
      "azureml-core==1.46.0\n",
      "azureml-dataprep==4.5.7\n",
      "azureml-dataprep-native==38.0.0\n",
      "azureml-dataprep-rslex==2.11.4\n",
      "azureml-dataset-runtime==1.46.0\n",
      "azureml-defaults==1.46.0\n",
      "azureml-inference-server-http==0.7.6\n",
      "azureml-interpret==1.46.0\n",
      "azureml-mlflow==1.46.0\n",
      "azureml-pipeline-core==1.46.0\n",
      "azureml-responsibleai==1.46.0\n",
      "azureml-telemetry==1.46.0\n",
      "azureml-train-automl-client==1.46.0\n",
      "azureml-train-automl-runtime==1.46.1\n",
      "azureml-train-core==1.46.0\n",
      "azureml-train-restclients-hyperdrive==1.46.0\n",
      "azureml-training-tabular==1.46.1\n",
      "backcall==0.2.0\n",
      "backports.tempfile==1.0\n",
      "backports.weakref==1.0.post1\n",
      "bcrypt==4.0.0\n",
      "bokeh==2.4.3\n",
      "boto==2.49.0\n",
      "boto3 @ file:///home/conda/feedstock_root/build_artifacts/boto3_1602889982367/work\n",
      "botocore @ file:///home/conda/feedstock_root/build_artifacts/botocore_1602884371056/work\n",
      "brotlipy==0.7.0\n",
      "cachetools==5.2.0\n",
      "certifi @ file:///opt/conda/conda-bld/certifi_1655968806487/work/certifi\n",
      "cffi @ file:///tmp/abs_98z5h56wf8/croots/recipe/cffi_1659598650955/work\n",
      "cftime @ file:///tmp/build/80754af9/cftime_1638345281172/work\n",
      "charset-normalizer==2.1.1\n",
      "click @ file:///home/linux1/recipes/ci/click_1610990599742/work\n",
      "cloudpickle @ file:///Users/ktietz/demo/mc3/conda-bld/cloudpickle_1629142150447/work\n",
      "configparser==3.7.4\n",
      "contextlib2==21.6.0\n",
      "convertdate @ file:///tmp/build/80754af9/convertdate_1634070773133/work\n",
      "cryptography @ file:///tmp/build/80754af9/cryptography_1652083456434/work\n",
      "cycler @ file:///tmp/build/80754af9/cycler_1637851556182/work\n",
      "Cython==0.29.17\n",
      "dask==2.30.0\n",
      "databricks-cli==0.17.3\n",
      "dataclasses==0.6\n",
      "debugpy==1.6.3\n",
      "decorator==5.1.1\n",
      "dice-ml==0.8\n",
      "dill==0.3.5.1\n",
      "distributed==2.30.1\n",
      "distro==1.7.0\n",
      "docker==5.0.3\n",
      "dotnetcore2==3.1.23\n",
      "dowhy==0.7.1\n",
      "econml==0.13.1\n",
      "entrypoints==0.4\n",
      "ephem @ file:///tmp/build/80754af9/ephem_1638960312619/work\n",
      "erroranalysis==0.3.11\n",
      "fairlearn==0.7.0\n",
      "fbprophet @ file:///home/conda/feedstock_root/build_artifacts/fbprophet_1599365534439/work\n",
      "fire==0.4.0\n",
      "Flask==2.1.3\n",
      "Flask-Cors==3.0.10\n",
      "flatbuffers==22.9.24\n",
      "fonttools==4.25.0\n",
      "fsspec==2022.8.2\n",
      "gensim==3.8.3\n",
      "gitdb==4.0.9\n",
      "GitPython==3.1.28\n",
      "google-api-core==2.10.2\n",
      "google-auth==2.12.0\n",
      "googleapis-common-protos==1.56.4\n",
      "gunicorn==20.1.0\n",
      "h5py==3.7.0\n",
      "HeapDict==1.0.1\n",
      "holidays @ file:///home/conda/feedstock_root/build_artifacts/holidays_1595448845196/work\n",
      "humanfriendly==10.0\n",
      "idna @ file:///tmp/build/80754af9/idna_1637925883363/work\n",
      "importlib-metadata==4.13.0\n",
      "importlib-resources==5.9.0\n",
      "inference-schema==1.4.2.1\n",
      "interpret-community==0.27.0\n",
      "interpret-core==0.2.7\n",
      "ipykernel==6.6.0\n",
      "ipython==7.34.0\n",
      "isodate==0.6.1\n",
      "itsdangerous==2.1.2\n",
      "jedi==0.18.1\n",
      "jeepney==0.8.0\n",
      "Jinja2==2.11.2\n",
      "jmespath @ file:///Users/ktietz/demo/mc3/conda-bld/jmespath_1630583964805/work\n",
      "joblib==0.14.1\n",
      "json-logging-py==0.2\n",
      "jsonpickle==2.2.0\n",
      "jsonschema==4.16.0\n",
      "jupyter-client==7.3.5\n",
      "jupyter-core==4.11.1\n",
      "keras2onnx==1.6.0\n",
      "kiwisolver @ file:///opt/conda/conda-bld/kiwisolver_1653292039266/work\n",
      "knack==0.9.0\n",
      "korean-lunar-calendar @ file:///tmp/build/80754af9/korean_lunar_calendar_1634063020401/work\n",
      "lightgbm==3.2.1\n",
      "llvmlite==0.38.1\n",
      "locket==1.0.0\n",
      "LunarCalendar @ file:///tmp/build/80754af9/lunarcalendar_1646383991234/work\n",
      "MarkupSafe==2.0.1\n",
      "matplotlib @ file:///tmp/build/80754af9/matplotlib-suite_1647441664166/work\n",
      "matplotlib-inline==0.1.6\n",
      "ml-wrappers==0.2.2\n",
      "mlflow-skinny==1.29.0\n",
      "mpi4py @ file:///home/conda/feedstock_root/build_artifacts/mpi4py_1660326262210/work\n",
      "mpmath==1.2.1\n",
      "msal==1.20.0\n",
      "msal-extensions==1.0.0\n",
      "msgpack==1.0.4\n",
      "msrest==0.7.1\n",
      "msrestazure==0.6.4\n",
      "munkres==1.1.4\n",
      "ndg-httpsclient==0.5.1\n",
      "nest-asyncio==1.5.6\n",
      "netCDF4==1.5.7\n",
      "networkx==2.5\n",
      "nimbusml==1.8.0\n",
      "numba==0.55.2\n",
      "numpy @ file:///home/conda/feedstock_root/build_artifacts/numpy_1649806299270/work\n",
      "oauthlib==3.2.1\n",
      "onnx==1.12.0\n",
      "onnxconverter-common==1.6.0\n",
      "onnxmltools==1.4.1\n",
      "onnxruntime==1.11.1\n",
      "opencensus==0.11.0\n",
      "opencensus-context==0.1.3\n",
      "opencensus-ext-azure==1.1.7\n",
      "packaging @ file:///tmp/build/80754af9/packaging_1637314298585/work\n",
      "pandas==1.1.5\n",
      "paramiko==2.11.0\n",
      "parso==0.8.3\n",
      "partd==1.3.0\n",
      "pathspec==0.10.1\n",
      "patsy==0.5.2\n",
      "pexpect==4.8.0\n",
      "pickleshare==0.7.5\n",
      "Pillow==9.2.0\n",
      "pkginfo==1.8.3\n",
      "pkgutil-resolve-name==1.3.10\n",
      "pmdarima==1.7.1\n",
      "portalocker==2.5.1\n",
      "prompt-toolkit==3.0.31\n",
      "protobuf==3.20.3\n",
      "psutil @ file:///opt/conda/conda-bld/psutil_1656431268089/work\n",
      "ptyprocess==0.7.0\n",
      "py-cpuinfo==5.0.0\n",
      "pyarrow==9.0.0\n",
      "pyasn1==0.4.8\n",
      "pyasn1-modules==0.2.8\n",
      "pycparser @ file:///tmp/build/80754af9/pycparser_1636541352034/work\n",
      "pydot==1.4.2\n",
      "Pygments==2.13.0\n",
      "PyJWT==2.5.0\n",
      "PyMeeus @ file:///tmp/build/80754af9/pymeeus_1634069098549/work\n",
      "PyNaCl==1.5.0\n",
      "pyOpenSSL @ file:///opt/conda/conda-bld/pyopenssl_1643788558760/work\n",
      "pyparsing @ file:///tmp/build/80754af9/pyparsing_1635766073266/work\n",
      "pyrsistent==0.18.1\n",
      "PySocks @ file:///tmp/build/80754af9/pysocks_1594394576006/work\n",
      "pystan @ file:///tmp/build/80754af9/pystan_1613565226242/work\n",
      "python-dateutil @ file:///tmp/build/80754af9/python-dateutil_1626374649649/work\n",
      "pytz @ file:///opt/conda/conda-bld/pytz_1654762638606/work\n",
      "PyYAML==6.0\n",
      "pyzmq==24.0.1\n",
      "raiutils==0.2.0\n",
      "requests==2.28.1\n",
      "requests-oauthlib==1.3.1\n",
      "responsibleai==0.22.0\n",
      "rsa==4.9\n",
      "s3transfer @ file:///tmp/build/80754af9/s3transfer_1616183147336/work\n",
      "scikit-learn==0.22.1\n",
      "scipy==1.5.3\n",
      "SecretStorage==3.3.3\n",
      "semver==2.13.0\n",
      "setuptools-git==1.2\n",
      "shap==0.39.0\n",
      "six @ file:///tmp/build/80754af9/six_1644875935023/work\n",
      "skl2onnx==1.4.9\n",
      "sklearn-pandas==1.7.0\n",
      "slicer==0.0.7\n",
      "smart-open==1.9.0\n",
      "smmap==5.0.0\n",
      "sortedcontainers==2.4.0\n",
      "sparse==0.13.0\n",
      "sqlparse==0.4.3\n",
      "statsmodels==0.11.1\n",
      "sympy==1.10.1\n",
      "tabulate==0.9.0\n",
      "tblib==1.7.0\n",
      "termcolor==2.0.1\n",
      "toolz==0.12.0\n",
      "tornado==6.2\n",
      "tqdm @ file:///opt/conda/conda-bld/tqdm_1650891076910/work\n",
      "traitlets==5.4.0\n",
      "typing-extensions @ file:///tmp/abs_ben9emwtky/croots/recipe/typing_extensions_1659638822008/work\n",
      "urllib3 @ file:///tmp/build/80754af9/urllib3_1603305693037/work\n",
      "wcwidth==0.2.5\n",
      "websocket-client==1.4.1\n",
      "Werkzeug==2.2.2\n",
      "wrapt==1.12.1\n",
      "xarray @ file:///opt/conda/conda-bld/xarray_1639166117697/work\n",
      "xgboost==1.3.3\n",
      "zict==2.2.0\n",
      "zipp==3.8.1\n",
      "\n",
      "2022-11-19T12:23:15,284904084+00:00 | gunicorn/run | \n",
      "2022-11-19T12:23:15,298314309+00:00 | gunicorn/run | ###############################################\n",
      "2022-11-19T12:23:15,305627314+00:00 | gunicorn/run | AzureML Inference Server\n",
      "2022-11-19T12:23:15,313958806+00:00 | gunicorn/run | ###############################################\n",
      "2022-11-19T12:23:15,316879768+00:00 | gunicorn/run | \n",
      "2022-11-19T12:23:17,919304075+00:00 | gunicorn/run | Starting AzureML Inference Server HTTP.\n",
      "Valid Application Insights instrumentation key provided.\n",
      "\n",
      "Azure ML Inferencing HTTP server v0.7.6\n",
      "\n",
      "\n",
      "Server Settings\n",
      "---------------\n",
      "Entry Script Name: /var/azureml-app/main.py\n",
      "Model Directory: /var/azureml-app/azureml-models/automl-creditcard/1\n",
      "Worker Count: 1\n",
      "Worker Timeout (seconds): 300\n",
      "Server Port: 31311\n",
      "Application Insights Enabled: true\n",
      "Application Insights Key: AppInsights key provided\n",
      "Inferencing HTTP server version: azmlinfsrv/0.7.6\n",
      "CORS for the specified origins: None\n",
      "\n",
      "\n",
      "Server Routes\n",
      "---------------\n",
      "Liveness Probe: GET   127.0.0.1:31311/\n",
      "Score:          POST  127.0.0.1:31311/score\n",
      "\n",
      "Starting gunicorn 20.1.0\n",
      "Listening at: http://0.0.0.0:31311 (75)\n",
      "Using worker: sync\n",
      "Booting worker with pid: 131\n",
      "Initializing logger\n",
      "2022-11-19 12:23:19,201 | root | INFO | Starting up app insights client\n",
      "DeprecationWarning: Explicitly using instrumentation key isdeprecated. Please use a connection string instead.\n",
      "DeprecationWarning: Explicitly using instrumentation key isdeprecated. Please use a connection string instead.\n",
      "DeprecationWarning: Explicitly using instrumentation key isdeprecated. Please use a connection string instead.\n",
      "logging socket was found. logging is available.\n",
      "logging socket was found. logging is available.\n",
      "2022-11-19 12:23:25,074 | root | INFO | Starting up app insight hooks\n",
      "2022-11-19 12:23:25,963 | root | INFO | Found driver script at /var/azureml-app/main.py and the score script at /var/azureml-app/score.py\n",
      "2022-11-19 12:23:25,963 | root | INFO | run() is decorated with @input_schema. Server will invoke it with the following arguments: data, method.\n",
      "2022-11-19 12:23:25,963 | root | INFO | Invoking user's init function\n",
      "generated new fontManager\n",
      "Importing plotly failed. Interactive plots will not work.\n",
      "2022-11-19 12:23:35,048 | azureml.core | WARNING | Failure while loading azureml_run_type_providers. Failed to load entrypoint azureml.scriptrun = azureml.core.script_run:ScriptRun._from_run_dto with exception The 'types-cryptography>=3.3.21; extra == \"crypto\"' distribution was not found and is required by PyJWT.\n",
      "Failure while loading azureml_run_type_providers. Failed to load entrypoint azureml.scriptrun = azureml.core.script_run:ScriptRun._from_run_dto with exception The 'types-cryptography>=3.3.21; extra == \"crypto\"' distribution was not found and is required by PyJWT.\n",
      "2022-11-19 12:23:35,140 | azureml.core | WARNING | Failure while loading azureml_run_type_providers. Failed to load entrypoint azureml.PipelineRun = azureml.pipeline.core.run:PipelineRun._from_dto with exception The 'types-cryptography>=3.3.21; extra == \"crypto\"' distribution was not found and is required by PyJWT.\n",
      "Failure while loading azureml_run_type_providers. Failed to load entrypoint azureml.PipelineRun = azureml.pipeline.core.run:PipelineRun._from_dto with exception The 'types-cryptography>=3.3.21; extra == \"crypto\"' distribution was not found and is required by PyJWT.\n",
      "2022-11-19 12:23:35,232 | azureml.core | WARNING | Failure while loading azureml_run_type_providers. Failed to load entrypoint azureml.ReusedStepRun = azureml.pipeline.core.run:StepRun._from_reused_dto with exception The 'types-cryptography>=3.3.21; extra == \"crypto\"' distribution was not found and is required by PyJWT.\n",
      "Failure while loading azureml_run_type_providers. Failed to load entrypoint azureml.ReusedStepRun = azureml.pipeline.core.run:StepRun._from_reused_dto with exception The 'types-cryptography>=3.3.21; extra == \"crypto\"' distribution was not found and is required by PyJWT.\n",
      "2022-11-19 12:23:35,321 | azureml.core | WARNING | Failure while loading azureml_run_type_providers. Failed to load entrypoint azureml.StepRun = azureml.pipeline.core.run:StepRun._from_dto with exception The 'types-cryptography>=3.3.21; extra == \"crypto\"' distribution was not found and is required by PyJWT.\n",
      "Failure while loading azureml_run_type_providers. Failed to load entrypoint azureml.StepRun = azureml.pipeline.core.run:StepRun._from_dto with exception The 'types-cryptography>=3.3.21; extra == \"crypto\"' distribution was not found and is required by PyJWT.\n",
      "2022-11-19 12:23:35,424 | azureml.core | WARNING | Failure while loading azureml_run_type_providers. Failed to load entrypoint automl = azureml.train.automl.run:AutoMLRun._from_run_dto with exception (azure-identity 1.11.0 (/azureml-envs/azureml_167ced737ee9811a93e21408b63f0ab3/lib/python3.7/site-packages), Requirement.parse('azure-identity==1.7.0'), {'azureml-dataprep'}).\n",
      "Failure while loading azureml_run_type_providers. Failed to load entrypoint automl = azureml.train.automl.run:AutoMLRun._from_run_dto with exception (azure-identity 1.11.0 (/azureml-envs/azureml_167ced737ee9811a93e21408b63f0ab3/lib/python3.7/site-packages), Requirement.parse('azure-identity==1.7.0'), {'azureml-dataprep'}).\n",
      "2022-11-19 12:23:35,519 | azureml.core | WARNING | Failure while loading azureml_run_type_providers. Failed to load entrypoint hyperdrive = azureml.train.hyperdrive:HyperDriveRun._from_run_dto with exception The 'types-cryptography>=3.3.21; extra == \"crypto\"' distribution was not found and is required by PyJWT.\n",
      "Failure while loading azureml_run_type_providers. Failed to load entrypoint hyperdrive = azureml.train.hyperdrive:HyperDriveRun._from_run_dto with exception The 'types-cryptography>=3.3.21; extra == \"crypto\"' distribution was not found and is required by PyJWT.\n",
      "2022-11-19 12:23:37,011 | root | INFO | Users's init has completed successfully\n",
      "2022-11-19 12:23:37,017 | root | INFO | Swaggers are prepared for the following versions: [2, 3].\n",
      "2022-11-19 12:23:37,017 | root | INFO | Scoring timeout is found from os.environ: 60000 ms\n",
      "2022-11-19 12:23:37,018 | root | INFO | AML_FLASK_ONE_COMPATIBILITY is set. Patched Flask to ensure compatibility with Flask 1.\n",
      "2022-11-19 12:24:01,797 | root | INFO | 200\n",
      "127.0.0.1 - - [19/Nov/2022:12:24:01 +0000] \"GET /swagger.json HTTP/1.0\" 200 4500 \"-\" \"Go-http-client/1.1\"\n",
      "\n"
     ]
    }
   ],
   "source": [
    "# print the logs\n",
    "print(service.get_logs())"
   ]
  },
  {
   "cell_type": "code",
   "execution_count": 38,
   "metadata": {},
   "outputs": [],
   "source": [
    "# deleting the webservice\n",
    "service.delete()"
   ]
  }
 ],
 "metadata": {
  "kernel_info": {
   "name": "python3"
  },
  "kernelspec": {
   "display_name": "Python 3.8 - AzureML",
   "language": "python",
   "name": "python38-azureml"
  },
  "language_info": {
   "codemirror_mode": {
    "name": "ipython",
    "version": 3
   },
   "file_extension": ".py",
   "mimetype": "text/x-python",
   "name": "python",
   "nbconvert_exporter": "python",
   "pygments_lexer": "ipython3",
   "version": "3.8.5"
  },
  "nteract": {
   "version": "nteract-front-end@1.0.0"
  }
 },
 "nbformat": 4,
 "nbformat_minor": 2
}
